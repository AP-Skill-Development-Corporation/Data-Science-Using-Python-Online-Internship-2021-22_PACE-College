{
 "cells": [
  {
   "cell_type": "code",
   "execution_count": 1,
   "metadata": {},
   "outputs": [
    {
     "name": "stdout",
     "output_type": "stream",
     "text": [
      "b value is big 20\n"
     ]
    }
   ],
   "source": [
    "# Function with arguments and without return value\n",
    "def check1(a,b):\n",
    "    if(a>b):\n",
    "        print(\"a value is big\",a)\n",
    "    else:\n",
    "        print(\"b value is big\",b)\n",
    "check1(10,20)"
   ]
  },
  {
   "cell_type": "code",
   "execution_count": 2,
   "metadata": {},
   "outputs": [
    {
     "name": "stdout",
     "output_type": "stream",
     "text": [
      "b value is big\n",
      "b value is big\n"
     ]
    }
   ],
   "source": [
    "# Function with arguments and with return value\n",
    "def check2(a,b):\n",
    "    if(a>b):\n",
    "        #print(\"a value is big\",a)\n",
    "        return \"a value is big\"\n",
    "    else:\n",
    "        return \"b value is big\"\n",
    "print(check2(10,20))\n",
    "c=check2(10,20)\n",
    "print(c)"
   ]
  },
  {
   "cell_type": "code",
   "execution_count": 3,
   "metadata": {},
   "outputs": [
    {
     "name": "stdout",
     "output_type": "stream",
     "text": [
      "enter a value 10\n",
      "enter b value 200\n"
     ]
    },
    {
     "data": {
      "text/plain": [
       "210"
      ]
     },
     "execution_count": 3,
     "metadata": {},
     "output_type": "execute_result"
    }
   ],
   "source": [
    "# Function without arguments and with return value\n",
    "def check3():\n",
    "    a=int(input(\"enter a value \"))\n",
    "    b=int(input(\"enter b value \"))\n",
    "    return a+b\n",
    "check3()"
   ]
  },
  {
   "cell_type": "code",
   "execution_count": 4,
   "metadata": {},
   "outputs": [
    {
     "name": "stdout",
     "output_type": "stream",
     "text": [
      "enter a value 10\n",
      "enter b value 300\n",
      "sum is 310\n"
     ]
    }
   ],
   "source": [
    "# Function without arguments and without return value\n",
    "def check4():\n",
    "    a=int(input(\"enter a value \"))\n",
    "    b=int(input(\"enter b value \"))\n",
    "    print(\"sum is {}\".format(a+b))\n",
    "check4()"
   ]
  },
  {
   "cell_type": "markdown",
   "metadata": {},
   "source": [
    "### Python Programs"
   ]
  },
  {
   "cell_type": "markdown",
   "metadata": {},
   "source": [
    "### 1. Operations:\n",
    "1. addition\n",
    "2. subtraction\n",
    "3. multiplication\n",
    "4. division\n",
    "5. power\n",
    "6. Exit\n",
    "* Take input from user a and b values\n",
    "* Take input from user : 1"
   ]
  },
  {
   "cell_type": "code",
   "execution_count": 7,
   "metadata": {},
   "outputs": [
    {
     "name": "stdout",
     "output_type": "stream",
     "text": [
      "enter a value 2\n",
      "enter b value 1\n",
      "1.Addition\n",
      "2.Subtraction\n",
      "3.Multiplication\n",
      "4.Division\n",
      "5.Power\n",
      "enter your choice 4\n",
      "the div of 2 and 1 is 2.0\n"
     ]
    }
   ],
   "source": [
    "def add(a,b):\n",
    "    print(\"the sum of {} and {} is {}\".format(a,b,a+b))\n",
    "def sub(a,b):\n",
    "    print(\"the sub of {} and {} is {}\".format(a,b,a-b))\n",
    "def mul(a,b):\n",
    "    print(\"the mul of {} and {} is {}\".format(a,b,a*b))\n",
    "def div(a,b):\n",
    "    print(\"the div of {} and {} is {}\".format(a,b,a/b))\n",
    "def power(a,b):\n",
    "    print(\"the pow of {} and {} is {}\".format(a,b,a**b))\n",
    "    \n",
    "    \n",
    "a=int(input(\"enter a value \"))\n",
    "b=int(input(\"enter b value \"))\n",
    "print(\"1.Addition\")\n",
    "print(\"2.Subtraction\")\n",
    "print(\"3.Multiplication\")\n",
    "print(\"4.Division\")\n",
    "print(\"5.Power\")\n",
    "ch=int(input(\"enter your choice \"))\n",
    "if(ch==1):\n",
    "    add(a,b)\n",
    "elif(ch==2):\n",
    "    sub(a,b)\n",
    "elif(ch==3):\n",
    "    mul(a,b)\n",
    "elif(ch==4):\n",
    "    div(a,b)\n",
    "elif(ch==5):\n",
    "    power(a,b)\n"
   ]
  },
  {
   "cell_type": "code",
   "execution_count": 8,
   "metadata": {},
   "outputs": [
    {
     "name": "stdout",
     "output_type": "stream",
     "text": [
      "20 10\n"
     ]
    }
   ],
   "source": [
    "# swap the two numbers\n",
    "# a=10 and b=20 => a=20 and b=10\n",
    "a=10\n",
    "b=20\n",
    "\n",
    "temp=a    #t=10\n",
    "a=b       #a=20\n",
    "b=temp    #b=10\n",
    "\n",
    "print(a,b)"
   ]
  },
  {
   "cell_type": "code",
   "execution_count": 10,
   "metadata": {},
   "outputs": [
    {
     "name": "stdout",
     "output_type": "stream",
     "text": [
      "20 10\n"
     ]
    }
   ],
   "source": [
    "# swap the two numbers without using thrid variable\n",
    "a=10\n",
    "b=20\n",
    "a=a+b   #a=30\n",
    "b=a-b   #b=30-20=10\n",
    "a=a-b   #a=30-10=20\n",
    "print(a,b)"
   ]
  },
  {
   "cell_type": "code",
   "execution_count": 11,
   "metadata": {},
   "outputs": [
    {
     "name": "stdout",
     "output_type": "stream",
     "text": [
      "20 10\n"
     ]
    }
   ],
   "source": [
    "# swap the two numbers using bitwise operator\n",
    "a=10\n",
    "b=20\n",
    "a=a^b\n",
    "b=a^b\n",
    "a=a^b\n",
    "print(a,b)\n",
    "\n",
    "#       16 8 4 2 1\n",
    "#a=10 => 0 1 0 1 0\n",
    "#b=20 => 1 0 1 0 0\n",
    "#    ---------------\n",
    "#a^b  => 1 1 1 1 0  => a= 30\n",
    "#b    => 1 0 1 0 0\n",
    "#    ---------------\n",
    "#        0 1 0 1 0 => b=10\n",
    "#a    => 1 1 1 1 0\n",
    "#     --------------\n",
    "#       1  0 1 0 0 => a=20\n"
   ]
  },
  {
   "cell_type": "code",
   "execution_count": 12,
   "metadata": {},
   "outputs": [
    {
     "data": {
      "text/plain": [
       "'0b1010'"
      ]
     },
     "execution_count": 12,
     "metadata": {},
     "output_type": "execute_result"
    }
   ],
   "source": [
    "bin(10)"
   ]
  },
  {
   "cell_type": "code",
   "execution_count": 15,
   "metadata": {
    "collapsed": true
   },
   "outputs": [
    {
     "name": "stdout",
     "output_type": "stream",
     "text": [
      "enter a number 3\n",
      "3 * 1 = 3\n",
      "3 * 2 = 6\n",
      "3 * 3 = 9\n",
      "3 * 4 = 12\n",
      "3 * 5 = 15\n",
      "3 * 6 = 18\n",
      "3 * 7 = 21\n",
      "3 * 8 = 24\n",
      "3 * 9 = 27\n",
      "3 * 10 = 30\n"
     ]
    }
   ],
   "source": [
    "# print the multiplication table\n",
    "# 4\n",
    "n=int(input(\"enter a number \"))\n",
    "for i in range(1,11):\n",
    "    print(n,\"*\",i,\"=\",n*i)"
   ]
  },
  {
   "cell_type": "code",
   "execution_count": 17,
   "metadata": {},
   "outputs": [
    {
     "name": "stdout",
     "output_type": "stream",
     "text": [
      "no.of even count is: 10\n"
     ]
    }
   ],
   "source": [
    "# find the how many even numbers in between 1 to 20\n",
    "c=0\n",
    "for i in range(1,21):\n",
    "    if(i%2==0):\n",
    "        #print(i,end=\" \")\n",
    "        c=c+1\n",
    "print(\"no.of even count is:\",c)"
   ]
  },
  {
   "cell_type": "code",
   "execution_count": 18,
   "metadata": {},
   "outputs": [
    {
     "name": "stdout",
     "output_type": "stream",
     "text": [
      "enter a number 4\n",
      "factorial of given number is: 24\n"
     ]
    }
   ],
   "source": [
    "# find the factorial of given number\n",
    "n=int(input(\"enter a number \"))\n",
    "c=1\n",
    "for i in range(1,n+1):\n",
    "    c=c*i\n",
    "print(\"factorial of given number is:\",c)"
   ]
  },
  {
   "cell_type": "code",
   "execution_count": 19,
   "metadata": {},
   "outputs": [
    {
     "name": "stdout",
     "output_type": "stream",
     "text": [
      "enter a number 6\n",
      "1 2 3 6 "
     ]
    }
   ],
   "source": [
    "# find the factors of a given number\n",
    "# 6 => 1,2,3,6 \n",
    "\n",
    "n=int(input(\"enter a number \"))\n",
    "for i in range(1,n+1):\n",
    "    if(n%i==0):\n",
    "        print(i,end=\" \")"
   ]
  },
  {
   "cell_type": "code",
   "execution_count": 20,
   "metadata": {},
   "outputs": [],
   "source": [
    "# find the sum of factors of given number\n",
    "# find the count of factors of given number\n",
    "# find the even factors of given number\n",
    "# find the even factors sum of given number\n",
    "# find the prime factors of given number\n"
   ]
  },
  {
   "cell_type": "code",
   "execution_count": 22,
   "metadata": {},
   "outputs": [
    {
     "name": "stdout",
     "output_type": "stream",
     "text": [
      "enter a number 6\n",
      "1 2 3 6 \n",
      "sum of factors of given number is: 12\n"
     ]
    }
   ],
   "source": [
    "# find the sum of factors of given number\n",
    "n=int(input(\"enter a number \"))\n",
    "s=0\n",
    "for i in range(1,n+1):\n",
    "    if(n%i==0):\n",
    "        print(i,end=\" \")\n",
    "        s=s+i\n",
    "print()\n",
    "print(\"sum of factors of given number is:\",s)"
   ]
  },
  {
   "cell_type": "code",
   "execution_count": 24,
   "metadata": {},
   "outputs": [
    {
     "name": "stdout",
     "output_type": "stream",
     "text": [
      "enter a number 4\n",
      "not a prime\n"
     ]
    }
   ],
   "source": [
    "# find the given number is prime or not\n",
    "# prime: if number is having only two factors that one and itself\n",
    "n=int(input(\"enter a number \"))\n",
    "c=0\n",
    "for i in range(1,n+1):\n",
    "    if(n%i==0):\n",
    "        c=c+1\n",
    "if(c==2):\n",
    "    print(\"prime number\")\n",
    "else:\n",
    "    print(\"not a prime\")\n"
   ]
  },
  {
   "cell_type": "code",
   "execution_count": 27,
   "metadata": {},
   "outputs": [
    {
     "name": "stdout",
     "output_type": "stream",
     "text": [
      "enter a first number 1\n",
      "enter a second number 100\n",
      "2 3 5 7 11 13 17 19 23 29 31 37 41 43 47 53 59 61 67 71 73 79 83 89 97 "
     ]
    }
   ],
   "source": [
    "# print the in between range prime numbers from 1 to 100\n",
    "first=int(input(\"enter a first number \"))\n",
    "second=int(input(\"enter a second number \"))\n",
    "for i in range(first,second+1):\n",
    "    c=0\n",
    "    for j in range(1,i+1):\n",
    "        if(i%j==0):\n",
    "            c=c+1\n",
    "    if(c==2):\n",
    "        print(i,end=\" \")"
   ]
  },
  {
   "cell_type": "code",
   "execution_count": 28,
   "metadata": {},
   "outputs": [],
   "source": [
    "# count the no.of prime number in between 1 to 10\n",
    "# sum the no.of prime numbers in between 1 to 10\n",
    "# print the fibonacci prime numbers in between 1 to 100"
   ]
  },
  {
   "cell_type": "code",
   "execution_count": 31,
   "metadata": {},
   "outputs": [],
   "source": [
    "# for i in range(100,10):\n",
    "#     print(i)\n",
    "    \n",
    "# # check the condition\n",
    "# # a=lower\n",
    "# # b=hig\n",
    "\n",
    "# a=int(input(\"enter a number \"))\n",
    "# b=int(input(\"enter b number \"))\n",
    "# if(a>b):\n",
    "#     break\n",
    "# else:\n",
    "#     temp=a\n",
    "#     b=a\n",
    "#     b=temp\n",
    "\n",
    "# for i in range(a,b):\n",
    "#     print(i,end=\" \")"
   ]
  },
  {
   "cell_type": "code",
   "execution_count": 32,
   "metadata": {},
   "outputs": [
    {
     "name": "stdout",
     "output_type": "stream",
     "text": [
      "enter a number 345\n",
      "sum is  12\n"
     ]
    }
   ],
   "source": [
    "#hello1welcome2everyone3&* => 123=>6\n",
    "# find the sum of digits in given number\n",
    "# 345 => 3+4+5 => 12\n",
    "n=int(input(\"enter a number \"))\n",
    "s=0\n",
    "while(n>0):   # 345>0\n",
    "    r=n%10    # r=345%10 => r=5    \n",
    "    s=s+r     # s=5\n",
    "    n=n//10   # n=345//10 => n=34\n",
    "print('sum is ',s)"
   ]
  },
  {
   "cell_type": "code",
   "execution_count": 33,
   "metadata": {},
   "outputs": [
    {
     "data": {
      "text/plain": [
       "1234"
      ]
     },
     "execution_count": 33,
     "metadata": {},
     "output_type": "execute_result"
    }
   ],
   "source": [
    "12345//10 => qu"
   ]
  },
  {
   "cell_type": "code",
   "execution_count": 34,
   "metadata": {},
   "outputs": [
    {
     "data": {
      "text/plain": [
       "5"
      ]
     },
     "execution_count": 34,
     "metadata": {},
     "output_type": "execute_result"
    }
   ],
   "source": [
    "12345%10  => reminder"
   ]
  },
  {
   "cell_type": "code",
   "execution_count": null,
   "metadata": {},
   "outputs": [],
   "source": []
  }
 ],
 "metadata": {
  "kernelspec": {
   "display_name": "Python 3",
   "language": "python",
   "name": "python3"
  },
  "language_info": {
   "codemirror_mode": {
    "name": "ipython",
    "version": 3
   },
   "file_extension": ".py",
   "mimetype": "text/x-python",
   "name": "python",
   "nbconvert_exporter": "python",
   "pygments_lexer": "ipython3",
   "version": "3.7.3"
  }
 },
 "nbformat": 4,
 "nbformat_minor": 2
}
