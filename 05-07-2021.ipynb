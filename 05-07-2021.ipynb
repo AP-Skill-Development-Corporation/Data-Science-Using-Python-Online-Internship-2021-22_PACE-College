{
 "cells": [
  {
   "cell_type": "markdown",
   "metadata": {},
   "source": [
    "### Object Oriented Programming System:\n",
    "\n",
    "* Class and Object\n",
    "* Variables and methods\n",
    "* Inharitance\n",
    "* Polymorphism\n",
    "    * method overloading\n",
    "    * method overriding"
   ]
  },
  {
   "cell_type": "markdown",
   "metadata": {},
   "source": [
    "* Class: Class is a blue print for costruct of object\n",
    "* For creating class we can use class keyword in python\n",
    "\n",
    "* Object: It is a instance of a class/Physcial Existance/real world entity.\n",
    "* Object have variables and methods\n",
    "\n",
    "* reference variable:It pointing to object for perform the task\n",
    "\n",
    "* Create Object:\n",
    "* Syntax:  classname var=new classname()   // creating object in java\n",
    "* Syntax: var=classname()  // creating object in python; var is reference variable\n",
    "\n"
   ]
  },
  {
   "cell_type": "code",
   "execution_count": 1,
   "metadata": {},
   "outputs": [
    {
     "data": {
      "text/plain": [
       "__main__.Mystudent"
      ]
     },
     "execution_count": 1,
     "metadata": {},
     "output_type": "execute_result"
    }
   ],
   "source": [
    "# create a class\n",
    "class Mystudent:\n",
    "    pass\n",
    "\n",
    "s=Mystudent()\n",
    "type(s)"
   ]
  },
  {
   "cell_type": "code",
   "execution_count": 9,
   "metadata": {},
   "outputs": [
    {
     "name": "stdout",
     "output_type": "stream",
     "text": [
      "This is a method for print student name\n",
      "this is a method for display student marks\n"
     ]
    }
   ],
   "source": [
    "# create a method in class\n",
    "\n",
    "class Mystudent:\n",
    "    def name(self):\n",
    "        print(\"This is a method for print student name\")\n",
    "    def marks(self):\n",
    "        print(\"this is a method for display student marks\")\n",
    "    \n",
    "s=Mystudent()\n",
    "s.name()\n",
    "s.marks()"
   ]
  },
  {
   "cell_type": "code",
   "execution_count": 12,
   "metadata": {},
   "outputs": [
    {
     "name": "stdout",
     "output_type": "stream",
     "text": [
      "This is a method for print student name\n",
      "this is a method for display student marks\n"
     ]
    }
   ],
   "source": [
    "# create a method in class\n",
    "class Mystudent:\n",
    "    def name(self):\n",
    "        print(\"This is a method for print student name\")\n",
    "    def marks(self):\n",
    "        print(\"this is a method for display student marks\")\n",
    "    \n",
    "s=Mystudent()\n",
    "Mystudent.name(s)\n",
    "Mystudent.marks(s)"
   ]
  },
  {
   "cell_type": "code",
   "execution_count": 17,
   "metadata": {},
   "outputs": [
    {
     "name": "stdout",
     "output_type": "stream",
     "text": [
      "sum: 30\n",
      "mul: 200\n",
      "welcome to all\n"
     ]
    }
   ],
   "source": [
    "# create a constructer in class\n",
    "class Mystudent:\n",
    "    def __init__(self):\n",
    "        a=10\n",
    "        b=20\n",
    "        print(\"sum:\",a+b)\n",
    "        print(\"mul:\",a*b)\n",
    "    def message(self):\n",
    "        print(\"welcome to all\")\n",
    "s=Mystudent() \n",
    "s.message()"
   ]
  },
  {
   "cell_type": "code",
   "execution_count": 19,
   "metadata": {},
   "outputs": [
    {
     "name": "stdout",
     "output_type": "stream",
     "text": [
      "10 20 30\n",
      "welcome to all\n"
     ]
    }
   ],
   "source": [
    "# create a Parametrized constructer in class\n",
    "class Mystudent:\n",
    "    def __init__(self,a,b,c):\n",
    "        a1=a\n",
    "        b1=b\n",
    "        c1=c\n",
    "        print(a1,b1,c1)\n",
    "        \n",
    "    def message(self):\n",
    "        print(\"welcome to all\")\n",
    "s=Mystudent(10,20,30) \n",
    "s.message()"
   ]
  },
  {
   "cell_type": "code",
   "execution_count": 23,
   "metadata": {},
   "outputs": [
    {
     "name": "stdout",
     "output_type": "stream",
     "text": [
      "constructer self address: 2486743777968\n",
      "object s address: 2486743777968\n",
      "welcome to all\n",
      "10\n",
      "message method self address: 2486743777968\n"
     ]
    }
   ],
   "source": [
    "# pass the one method variables into another method\n",
    "class Mystudent:\n",
    "    def __init__(self,a,b,c):\n",
    "        self.a1=a\n",
    "        self.b1=b\n",
    "        self.c1=c\n",
    "        #print(a1,b1,c1)\n",
    "        print(\"constructer self address:\",id(self))\n",
    "        \n",
    "    def message(self):\n",
    "        print(\"welcome to all\")\n",
    "        print(self.a1)\n",
    "        print(\"message method self address:\",id(self))\n",
    "        \n",
    "s=Mystudent(10,20,30) \n",
    "print(\"object s address:\",id(s))\n",
    "s.message()"
   ]
  },
  {
   "cell_type": "code",
   "execution_count": 27,
   "metadata": {},
   "outputs": [
    {
     "name": "stdout",
     "output_type": "stream",
     "text": [
      "student name is: sai\n",
      "student age is: 25\n",
      "college name: Mycollege\n",
      "address: Hyd\n"
     ]
    },
    {
     "data": {
      "text/plain": [
       "'Hyd'"
      ]
     },
     "execution_count": 27,
     "metadata": {},
     "output_type": "execute_result"
    }
   ],
   "source": [
    "# classes variables\n",
    "class Student:\n",
    "    college=\"Mycollege\"\n",
    "    address=\"Hyd\"\n",
    "    def __init__(self):\n",
    "        self.sname=\"sai\"\n",
    "        self.sage=25\n",
    "    def display(self):\n",
    "        print(\"student name is:\",self.sname)\n",
    "        print(\"student age is:\",self.sage)\n",
    "        print(\"college name:\",self.college)\n",
    "        print(\"address:\",self.address)\n",
    "s=Student()\n",
    "s.display()   \n",
    "s.college\n",
    "s.address"
   ]
  },
  {
   "cell_type": "code",
   "execution_count": 32,
   "metadata": {},
   "outputs": [
    {
     "name": "stdout",
     "output_type": "stream",
     "text": [
      "sai 25\n",
      "Ours college\n",
      "myname 30\n"
     ]
    }
   ],
   "source": [
    "# update the class variables and instance variables\n",
    "class Student:\n",
    "    college=\"Mycollege\"\n",
    "    def __init__(self):\n",
    "        self.sname=\"sai\"\n",
    "        self.sage=25\n",
    "    def display(self):\n",
    "        print(self.sname,self.sage)\n",
    "s=Student()\n",
    "s.display()\n",
    "#s.college\n",
    "s.college=\"Ours college\"\n",
    "print(s.college)\n",
    "\n",
    "s.sname='myname'\n",
    "s.sage=30\n",
    "\n",
    "print(s.sname,s.sage)"
   ]
  },
  {
   "cell_type": "code",
   "execution_count": 41,
   "metadata": {},
   "outputs": [
    {
     "name": "stdout",
     "output_type": "stream",
     "text": [
      "student name: myname\n",
      "student age: 24\n"
     ]
    },
    {
     "data": {
      "text/plain": [
       "'this is small message'"
      ]
     },
     "execution_count": 41,
     "metadata": {},
     "output_type": "execute_result"
    }
   ],
   "source": [
    "#instance method, static method\n",
    "class Student:\n",
    "    \n",
    "    #constructer\n",
    "    def __init__(self,name,age):\n",
    "        self.n=name\n",
    "        self.a=age\n",
    "        \n",
    "    #instance method\n",
    "    def show(self):\n",
    "        print(\"student name:\",self.n)\n",
    "        print(\"student age:\",self.a)\n",
    "        \n",
    "    \n",
    "    @staticmethod\n",
    "    def message():\n",
    "        return \"this is small message\"\n",
    "s=Student(\"myname\",24)\n",
    "s.show()\n",
    "s.message()"
   ]
  },
  {
   "cell_type": "markdown",
   "metadata": {},
   "source": [
    "### Inharitance:\n",
    "\n",
    "> Access the one class variables and methods into another class\n",
    "\n",
    "* Single Inharitance\n",
    "* Multi-level inharitance\n",
    "* Multiple inharitance"
   ]
  },
  {
   "cell_type": "code",
   "execution_count": 48,
   "metadata": {},
   "outputs": [
    {
     "name": "stdout",
     "output_type": "stream",
     "text": [
      "this is three from b\n",
      "this is four from b\n",
      "this is one from a\n",
      "this is two from a\n"
     ]
    }
   ],
   "source": [
    "# single inharitance\n",
    "class A:                                # super class\n",
    "    def one(self):\n",
    "        print(\"this is one from a\")\n",
    "    def two(self):\n",
    "        print(\"this is two from a\")\n",
    "class B(A):                                # sub class\n",
    "    def three(self):\n",
    "        print(\"this is three from b\")\n",
    "    def four(self):\n",
    "        print(\"this is four from b\")\n",
    "        \n",
    "# obj1=A()\n",
    "# obj1.one()\n",
    "# obj1.two()\n",
    "\n",
    "obj2=B()\n",
    "obj2.three()\n",
    "obj2.four()\n",
    "obj2.one()\n",
    "obj2.two()"
   ]
  },
  {
   "cell_type": "code",
   "execution_count": 51,
   "metadata": {},
   "outputs": [
    {
     "name": "stdout",
     "output_type": "stream",
     "text": [
      "this is one from a\n",
      "this is three from b\n",
      "this is five from c\n"
     ]
    }
   ],
   "source": [
    "# multi-level inharitance\n",
    "class A:                                \n",
    "    def one(self):\n",
    "        print(\"this is one from a\")\n",
    "    def two(self):\n",
    "        print(\"this is two from a\")\n",
    "class B(A):                                \n",
    "    def three(self):\n",
    "        print(\"this is three from b\")\n",
    "    def four(self):\n",
    "        print(\"this is four from b\")\n",
    "        \n",
    "class C(B):                                \n",
    "    def five(self):\n",
    "        print(\"this is five from c\")\n",
    "    def six(self):\n",
    "        print(\"this is six from c\")\n",
    "        \n",
    "obj=C()\n",
    "obj.one()\n",
    "obj.three()\n",
    "obj.five()"
   ]
  },
  {
   "cell_type": "code",
   "execution_count": 57,
   "metadata": {},
   "outputs": [
    {
     "name": "stdout",
     "output_type": "stream",
     "text": [
      "this is one from b\n"
     ]
    }
   ],
   "source": [
    "# Multiple Inharitance\n",
    "\n",
    "class A:                                \n",
    "    def one(self):\n",
    "        print(\"this is one from a\")\n",
    "    def two(self):\n",
    "        print(\"this is two from a\")\n",
    "class B:                                \n",
    "    def one(self):\n",
    "        print(\"this is one from b\")\n",
    "    def four(self):\n",
    "        print(\"this is four from b\")\n",
    "        \n",
    "class C(B,A):                                \n",
    "    def five(self):\n",
    "        print(\"this is five from c\")\n",
    "    def six(self):\n",
    "        print(\"this is six from c\")\n",
    "\n",
    "obj=C()\n",
    "obj.one()\n",
    "# obj.three()\n",
    "# obj.five()"
   ]
  },
  {
   "cell_type": "markdown",
   "metadata": {},
   "source": [
    "### Polymorphism:\n",
    "\n",
    "* Method overloading: same method with different parameters\n",
    "* Method overriding  : same method with same parameters"
   ]
  },
  {
   "cell_type": "code",
   "execution_count": 68,
   "metadata": {},
   "outputs": [
    {
     "data": {
      "text/plain": [
       "60"
      ]
     },
     "execution_count": 68,
     "metadata": {},
     "output_type": "execute_result"
    }
   ],
   "source": [
    "# method overloading:\n",
    "class Student:\n",
    "    def marks(self,m1=None,m2=None,m3=None):\n",
    "        t=0\n",
    "        if(m1!=None and m2!=None and m3!=None):\n",
    "            t=m1+m2+m3\n",
    "        else:\n",
    "            t=m1\n",
    "        return t\n",
    "s=Student()\n",
    "s.marks(10)\n",
    "s.marks(10,20)\n",
    "s.marks(10,20,30)"
   ]
  },
  {
   "cell_type": "code",
   "execution_count": 70,
   "metadata": {},
   "outputs": [
    {
     "name": "stdout",
     "output_type": "stream",
     "text": [
      "this is one from a\n",
      "this is one from b\n"
     ]
    }
   ],
   "source": [
    "# method overriding\n",
    "\n",
    "class A:\n",
    "    def one(self):\n",
    "        print(\"this is one from a\")\n",
    "    \n",
    "class B(A):\n",
    "    def one(self):\n",
    "        super().one()\n",
    "        print(\"this is one from b\")\n",
    "b=B()\n",
    "b.one()"
   ]
  },
  {
   "cell_type": "code",
   "execution_count": null,
   "metadata": {},
   "outputs": [],
   "source": []
  }
 ],
 "metadata": {
  "kernelspec": {
   "display_name": "Python 3",
   "language": "python",
   "name": "python3"
  },
  "language_info": {
   "codemirror_mode": {
    "name": "ipython",
    "version": 3
   },
   "file_extension": ".py",
   "mimetype": "text/x-python",
   "name": "python",
   "nbconvert_exporter": "python",
   "pygments_lexer": "ipython3",
   "version": "3.7.3"
  }
 },
 "nbformat": 4,
 "nbformat_minor": 2
}
