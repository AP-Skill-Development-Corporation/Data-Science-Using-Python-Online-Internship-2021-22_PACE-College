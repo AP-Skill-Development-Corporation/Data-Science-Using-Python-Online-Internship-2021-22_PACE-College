{
 "cells": [
  {
   "cell_type": "markdown",
   "metadata": {},
   "source": [
    "### list rotation\n",
    "* left to right[clock wise]\n",
    "* right to left[anti clock wise]"
   ]
  },
  {
   "cell_type": "code",
   "execution_count": 4,
   "metadata": {},
   "outputs": [
    {
     "data": {
      "text/plain": [
       "[6, 7, 8, 1, 2, 3, 4, 5]"
      ]
     },
     "execution_count": 4,
     "metadata": {},
     "output_type": "execute_result"
    }
   ],
   "source": [
    "# left to right\n",
    "l=[1,2,3,4,5,6,7,8]\n",
    "#ex: output=>[7,8,1,2,3,4,5,6]; k=3\n",
    "l[-2:]+l[:-2]\n",
    "l[-3:]+l[:-3]"
   ]
  },
  {
   "cell_type": "code",
   "execution_count": 9,
   "metadata": {},
   "outputs": [
    {
     "data": {
      "text/plain": [
       "[3, 4, 5, 6, 7, 8, 1, 2]"
      ]
     },
     "execution_count": 9,
     "metadata": {},
     "output_type": "execute_result"
    }
   ],
   "source": [
    "# right to left\n",
    "l=[1,2,3,4,5,6,7,8]\n",
    "l[2:]+l[:2]"
   ]
  },
  {
   "cell_type": "code",
   "execution_count": 13,
   "metadata": {},
   "outputs": [
    {
     "name": "stdout",
     "output_type": "stream",
     "text": [
      "second min a list: 4\n",
      "second max a list: 199\n"
     ]
    }
   ],
   "source": [
    "# find the even numbers in a list\n",
    "# find the sum of elements in a list\n",
    "# find the max element in a list\n",
    "# find the min element in a list\n",
    "# find the second max element in a list\n",
    "# find the second min element in a list\n",
    "# print the squares of a list\n",
    "# print the primary numbers in a list\n",
    "\n",
    "\n",
    "# find the second max and min in a list\n",
    "l=[10,100,200,99,2,4,199]  # second min=4; second max=199\n",
    "#min(l)\n",
    "#max(l)\n",
    "l2=sorted(l)\n",
    "print(\"second min a list:\",l2[1])\n",
    "print(\"second max a list:\",l2[-2])"
   ]
  },
  {
   "cell_type": "code",
   "execution_count": 16,
   "metadata": {},
   "outputs": [
    {
     "name": "stdout",
     "output_type": "stream",
     "text": [
      "enter a number 6\n",
      "perfect number\n"
     ]
    }
   ],
   "source": [
    "# find the given number is perfect number or not\n",
    "# perfact number: sum of factors of number(excluding iteself)  is equal to given number\n",
    "# ex: 6 => 1,2,3 => 1+2+3 => 6\n",
    "\n",
    "n=int(input(\"enter a number \"))\n",
    "s=0\n",
    "for i in range(1,n):\n",
    "    if(n%i==0):\n",
    "        #print(i,end=\" \")\n",
    "        s=s+i\n",
    "if(s==n):\n",
    "    print(\"perfect number\")\n",
    "else:\n",
    "    print(\"not a perfect number\")\n",
    "\n",
    "    \n",
    "# print the in between range of perfect numbers(1 to 1000)"
   ]
  },
  {
   "cell_type": "code",
   "execution_count": 17,
   "metadata": {},
   "outputs": [
    {
     "name": "stdout",
     "output_type": "stream",
     "text": [
      "perfect number\n"
     ]
    }
   ],
   "source": [
    "def findperfect(n):\n",
    "    s=0\n",
    "    for i in range(1,n):\n",
    "        if(n%i==0):\n",
    "        #print(i,end=\" \")\n",
    "            s=s+i\n",
    "    if(s==n):\n",
    "        print(\"perfect number\")\n",
    "    else:\n",
    "        print(\"not a perfect number\")\n",
    "findperfect(6)    "
   ]
  },
  {
   "cell_type": "code",
   "execution_count": 26,
   "metadata": {},
   "outputs": [
    {
     "name": "stdout",
     "output_type": "stream",
     "text": [
      "enter a number 145\n",
      "strong number\n"
     ]
    }
   ],
   "source": [
    "# find the given number is strong number or not\n",
    "# strong number: sum of factorial of individual number is equal to given number\n",
    "# ex: 145 => 1+1*2*3*4+1*2*3*4*5\n",
    "\n",
    "def checkfact(n):\n",
    "    f=1\n",
    "    for i in range(1,n+1):\n",
    "        f=f*i\n",
    "    return f\n",
    "\n",
    "num=input(\"enter a number \")\n",
    "s=0\n",
    "for i in range(0,len(num)):\n",
    "    #print(num[i],end=\" \")\n",
    "    s=s+checkfact(int(num[i]))\n",
    "if(s==int(num)):\n",
    "    print(\"strong number\")\n",
    "else:\n",
    "    print(\"not a strong number\")"
   ]
  },
  {
   "cell_type": "code",
   "execution_count": 27,
   "metadata": {},
   "outputs": [
    {
     "name": "stdout",
     "output_type": "stream",
     "text": [
      "1 2 145 "
     ]
    }
   ],
   "source": [
    "# print the inbetween range of strong numbers\n",
    "def checkfact(n):\n",
    "    f=1\n",
    "    for i in range(1,n+1):\n",
    "        f=f*i\n",
    "    return f\n",
    "def checkstrong(num):      #145\n",
    "    s=0\n",
    "    for i in range(0,len(num)):   # 0,1,2\n",
    "        s=s+checkfact(int(num[i]))\n",
    "    if(s==int(num)):\n",
    "        return s\n",
    "for i in range(1,1000):\n",
    "    if(i==checkstrong(str(i))):\n",
    "        print(i,end=\" \")\n"
   ]
  },
  {
   "cell_type": "code",
   "execution_count": 31,
   "metadata": {},
   "outputs": [
    {
     "name": "stdout",
     "output_type": "stream",
     "text": [
      "3 : 6\n"
     ]
    }
   ],
   "source": [
    "# find the most occurance number in a list\n",
    "# ex: l=[1,1,1,2,2,2,2,3,3,3,3,3,3,4,10]\n",
    "# ouput=>3\n",
    "l=[1,1,1,2,2,2,2,3,3,3,3,3,3,4,10]\n",
    "d={}\n",
    "for i in l:\n",
    "    d[i]=l.count(i)\n",
    "#d\n",
    "m=max(d.values())\n",
    "for i,j in d.items():\n",
    "    if(j==m):\n",
    "        print(i,\":\",j)\n",
    "\n",
    "# s=\"aaabbbccccce\"\n",
    "# l=[\"hello\",\"welcome\",\"hello\",\"everyone\",\"hello\"]"
   ]
  },
  {
   "cell_type": "code",
   "execution_count": 34,
   "metadata": {},
   "outputs": [
    {
     "name": "stdout",
     "output_type": "stream",
     "text": [
      "hello\n"
     ]
    }
   ],
   "source": [
    "l=[\"hello\",\"welcome\",\"hello\",\"everyone\",\"hello\"]\n",
    "#s=\"aaabbbccccce\"\n",
    "d={}\n",
    "for i in l:\n",
    "    d[i]=l.count(i)\n",
    "#d\n",
    "m=max(d.values())\n",
    "for i,j in d.items():\n",
    "    if(j==m):\n",
    "        print(i)"
   ]
  },
  {
   "cell_type": "code",
   "execution_count": 39,
   "metadata": {},
   "outputs": [
    {
     "name": "stdout",
     "output_type": "stream",
     "text": [
      "{1: 3, 2: 4, 3: 6, 4: 1, 10: 1}\n",
      "1 3\n",
      "2 4\n",
      "3 6\n",
      "4 1\n",
      "10 1\n"
     ]
    }
   ],
   "source": [
    "l=[1,1,1,2,2,2,2,3,3,3,3,3,3,4,10]\n",
    "d={}\n",
    "for i in l:\n",
    "    d[i]=l.count(i)\n",
    "print(d)\n",
    "for i,j in d.items():\n",
    "    print(i,j)"
   ]
  },
  {
   "cell_type": "code",
   "execution_count": 40,
   "metadata": {},
   "outputs": [],
   "source": [
    "# l=[1,2,3,4,5,6,7,8,9]\n",
    "# output=>[2,4,6,8,9,7,5,3,1]"
   ]
  },
  {
   "cell_type": "code",
   "execution_count": 41,
   "metadata": {},
   "outputs": [
    {
     "data": {
      "text/plain": [
       "'469'"
      ]
     },
     "execution_count": 41,
     "metadata": {},
     "output_type": "execute_result"
    }
   ],
   "source": [
    "s=\"hello4welcome6toall9\"\n",
    "#output=> 469\n",
    "s1=\"\"\n",
    "for i in s:\n",
    "    if(i.isdigit()):\n",
    "        s1=s1+i\n",
    "s1       "
   ]
  },
  {
   "cell_type": "code",
   "execution_count": 45,
   "metadata": {},
   "outputs": [
    {
     "data": {
      "text/plain": [
       "'A'"
      ]
     },
     "execution_count": 45,
     "metadata": {},
     "output_type": "execute_result"
    }
   ],
   "source": [
    "s=\"hello\"\n",
    "# o/p=> ifmmp\n",
    "\n",
    "#ord('a') => it prints the ascii value of character\n",
    "#chr(97)  => it prints the character of ascii value\n",
    "\n",
    "#a-z=>97 to 122\n",
    "#A-Z=>65 to 90\n",
    "\n",
    "s='hello'\n",
    "c=\"\"\n",
    "for i in s:\n",
    "    t=ord(i)\n",
    "    a=t+1\n",
    "    c=c+chr(a)\n",
    "print(c)"
   ]
  },
  {
   "cell_type": "code",
   "execution_count": 48,
   "metadata": {},
   "outputs": [
    {
     "name": "stdout",
     "output_type": "stream",
     "text": [
      "ifmmp xfmdpnf up bmm\n"
     ]
    }
   ],
   "source": [
    "s=\"hello welcome to all\"\n",
    "c=\"\"\n",
    "for i in s:\n",
    "    if(i.isspace()):\n",
    "        c=c+\" \"\n",
    "    else:\n",
    "        t=ord(i)\n",
    "        a=t+1\n",
    "        c=c+chr(a)\n",
    "print(c)"
   ]
  },
  {
   "cell_type": "code",
   "execution_count": 50,
   "metadata": {},
   "outputs": [
    {
     "ename": "TypeError",
     "evalue": "'str' object does not support item assignment",
     "output_type": "error",
     "traceback": [
      "\u001b[1;31m---------------------------------------------------------------------------\u001b[0m",
      "\u001b[1;31mTypeError\u001b[0m                                 Traceback (most recent call last)",
      "\u001b[1;32m<ipython-input-50-905a72a704c4>\u001b[0m in \u001b[0;36m<module>\u001b[1;34m\u001b[0m\n\u001b[0;32m      1\u001b[0m \u001b[1;31m# string is mutable or immutable\u001b[0m\u001b[1;33m\u001b[0m\u001b[1;33m\u001b[0m\u001b[1;33m\u001b[0m\u001b[0m\n\u001b[0;32m      2\u001b[0m \u001b[0ms\u001b[0m\u001b[1;33m=\u001b[0m\u001b[1;34m\"hello\"\u001b[0m\u001b[1;33m\u001b[0m\u001b[1;33m\u001b[0m\u001b[0m\n\u001b[1;32m----> 3\u001b[1;33m \u001b[0ms\u001b[0m\u001b[1;33m[\u001b[0m\u001b[1;36m0\u001b[0m\u001b[1;33m]\u001b[0m\u001b[1;33m=\u001b[0m\u001b[1;34m\"d\"\u001b[0m\u001b[1;33m\u001b[0m\u001b[1;33m\u001b[0m\u001b[0m\n\u001b[0m",
      "\u001b[1;31mTypeError\u001b[0m: 'str' object does not support item assignment"
     ]
    }
   ],
   "source": [
    "# string is immutable\n",
    "s=\"hello\"\n",
    "s[0]=\"d\""
   ]
  },
  {
   "cell_type": "code",
   "execution_count": null,
   "metadata": {},
   "outputs": [],
   "source": []
  }
 ],
 "metadata": {
  "kernelspec": {
   "display_name": "Python 3",
   "language": "python",
   "name": "python3"
  },
  "language_info": {
   "codemirror_mode": {
    "name": "ipython",
    "version": 3
   },
   "file_extension": ".py",
   "mimetype": "text/x-python",
   "name": "python",
   "nbconvert_exporter": "python",
   "pygments_lexer": "ipython3",
   "version": "3.7.3"
  }
 },
 "nbformat": 4,
 "nbformat_minor": 2
}
