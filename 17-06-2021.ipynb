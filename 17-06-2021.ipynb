{
 "cells": [
  {
   "cell_type": "markdown",
   "metadata": {},
   "source": [
    "### Functions:\n",
    "\n",
    "* functions is a collection of code/block of code to perform a specific task\n",
    "* function only run when it is called\n",
    "* function can be creat using def keyword\n",
    "\n",
    "### uses of functions:\n",
    "\n",
    "* code reusability\n",
    "* Increse the code performance\n",
    "* reduce the complexity\n",
    "\n",
    "### Types of functions\n",
    "\n",
    "* Built in functions\n",
    "    * min(),print(),input(),divmod(),help(),type(),max(),....[learn more](https://docs.python.org/3/library/functions.html)\n",
    "* User defined functions\n",
    "    * user create a functions: ex: welcome(), findsum()...\n",
    "    \n",
    " \n",
    "### syntax:\n",
    "\n",
    "```\n",
    "//called function\n",
    "def fun_name(parameters):        // parameters/formal arguments\n",
    "    statements1\n",
    "    statements2\n",
    "    -------\n",
    "    return sts  //optional\n",
    "\n",
    "//calling function\n",
    "fun_name(arguments)            //actual arguments\n",
    "```\n",
    "\n",
    "\n",
    "### types of arguments:\n",
    "* Positional arguments\n",
    "* Default arguments\n",
    "* keyword arguments\n",
    "* variable length arguments(*var) (or) arbitory arguments\n",
    "* keyword length arguements(**var) (or) arbotyr length arguments\n",
    "\n",
    "\n",
    "### User defined functions:\n",
    "\n",
    "* function with arguments and without return value\n",
    "* function with arguments and with return value\n",
    "* function without arguments and withour return value\n",
    "* function with arguments and with return value\n",
    "* recursive functions: a function can be called with in a function"
   ]
  },
  {
   "cell_type": "code",
   "execution_count": 10,
   "metadata": {},
   "outputs": [
    {
     "data": {
      "text/plain": [
       "False"
      ]
     },
     "execution_count": 10,
     "metadata": {},
     "output_type": "execute_result"
    }
   ],
   "source": [
    "# build functions\n",
    "l=[1,2,3,4,5]\n",
    "min(l)\n",
    "max(l)\n",
    "sum(l)\n",
    "\n",
    "a=-12\n",
    "b=-12.33\n",
    "abs(b)\n",
    "\n",
    "l=[1,2,3,3]\n",
    "any(l)\n",
    "all(l)\n",
    "\n",
    "l=[0,False]\n",
    "any(l)"
   ]
  },
  {
   "cell_type": "code",
   "execution_count": 13,
   "metadata": {},
   "outputs": [
    {
     "data": {
      "text/plain": [
       "13"
      ]
     },
     "execution_count": 13,
     "metadata": {},
     "output_type": "execute_result"
    }
   ],
   "source": [
    "import math\n",
    "math.ceil(13.45)\n",
    "math.floor(13.34)"
   ]
  },
  {
   "cell_type": "code",
   "execution_count": 14,
   "metadata": {},
   "outputs": [
    {
     "name": "stdout",
     "output_type": "stream",
     "text": [
      "hello\n"
     ]
    }
   ],
   "source": [
    "# user defined functions\n",
    "\n",
    "def check1():\n",
    "    print(\"hello\")\n",
    "check1()\n"
   ]
  },
  {
   "cell_type": "code",
   "execution_count": 15,
   "metadata": {},
   "outputs": [
    {
     "name": "stdout",
     "output_type": "stream",
     "text": [
      "hello\n",
      "welcome\n"
     ]
    }
   ],
   "source": [
    "def check1():\n",
    "    print(\"hello\")\n",
    "    return \"welcome\"\n",
    "print(check1())"
   ]
  },
  {
   "cell_type": "code",
   "execution_count": 16,
   "metadata": {},
   "outputs": [
    {
     "name": "stdout",
     "output_type": "stream",
     "text": [
      "hello\n",
      "None\n"
     ]
    }
   ],
   "source": [
    "def check1():\n",
    "    print(\"hello\")\n",
    "    return\n",
    "print(check1())"
   ]
  },
  {
   "cell_type": "code",
   "execution_count": 17,
   "metadata": {},
   "outputs": [
    {
     "name": "stdout",
     "output_type": "stream",
     "text": [
      "10\n",
      "20\n"
     ]
    }
   ],
   "source": [
    "# arguments\n",
    "def check1(a,b):\n",
    "    print(a)\n",
    "    print(b)\n",
    "check1(10,20)"
   ]
  },
  {
   "cell_type": "code",
   "execution_count": 18,
   "metadata": {},
   "outputs": [
    {
     "name": "stdout",
     "output_type": "stream",
     "text": [
      "your name is: sai\n",
      "your age is: 23\n"
     ]
    }
   ],
   "source": [
    "def check1(name,age):\n",
    "    print(\"your name is:\",name)\n",
    "    print(\"your age is:\",age)\n",
    "check1(\"sai\",23)"
   ]
  },
  {
   "cell_type": "code",
   "execution_count": 19,
   "metadata": {},
   "outputs": [
    {
     "name": "stdout",
     "output_type": "stream",
     "text": [
      "your name is: 23\n",
      "your age is: sai\n"
     ]
    }
   ],
   "source": [
    "def check1(name,age):\n",
    "    print(\"your name is:\",name)\n",
    "    print(\"your age is:\",age)\n",
    "check1(23,\"sai\")"
   ]
  },
  {
   "cell_type": "code",
   "execution_count": 24,
   "metadata": {},
   "outputs": [
    {
     "ename": "TypeError",
     "evalue": "check1() got an unexpected keyword argument 'ag'",
     "output_type": "error",
     "traceback": [
      "\u001b[1;31m---------------------------------------------------------------------------\u001b[0m",
      "\u001b[1;31mTypeError\u001b[0m                                 Traceback (most recent call last)",
      "\u001b[1;32m<ipython-input-24-57c87aa42cda>\u001b[0m in \u001b[0;36m<module>\u001b[1;34m\u001b[0m\n\u001b[0;32m      3\u001b[0m     \u001b[0mprint\u001b[0m\u001b[1;33m(\u001b[0m\u001b[1;34m\"your name is:\"\u001b[0m\u001b[1;33m,\u001b[0m\u001b[0mname\u001b[0m\u001b[1;33m)\u001b[0m\u001b[1;33m\u001b[0m\u001b[1;33m\u001b[0m\u001b[0m\n\u001b[0;32m      4\u001b[0m     \u001b[0mprint\u001b[0m\u001b[1;33m(\u001b[0m\u001b[1;34m\"your age is:\"\u001b[0m\u001b[1;33m,\u001b[0m\u001b[0mage\u001b[0m\u001b[1;33m)\u001b[0m\u001b[1;33m\u001b[0m\u001b[1;33m\u001b[0m\u001b[0m\n\u001b[1;32m----> 5\u001b[1;33m \u001b[0mcheck1\u001b[0m\u001b[1;33m(\u001b[0m\u001b[0mag\u001b[0m\u001b[1;33m=\u001b[0m\u001b[1;36m23\u001b[0m\u001b[1;33m,\u001b[0m\u001b[0mnam\u001b[0m\u001b[1;33m=\u001b[0m\u001b[1;34m\"sai\"\u001b[0m\u001b[1;33m)\u001b[0m\u001b[1;33m\u001b[0m\u001b[1;33m\u001b[0m\u001b[0m\n\u001b[0m",
      "\u001b[1;31mTypeError\u001b[0m: check1() got an unexpected keyword argument 'ag'"
     ]
    }
   ],
   "source": [
    "#keyword arguments\n",
    "def check1(name,age):\n",
    "    print(\"your name is:\",name)\n",
    "    print(\"your age is:\",age)\n",
    "check1(ag=23,nam=\"sai\")"
   ]
  },
  {
   "cell_type": "code",
   "execution_count": 27,
   "metadata": {},
   "outputs": [
    {
     "name": "stdout",
     "output_type": "stream",
     "text": [
      "name is: honey\n",
      "age is: 25\n"
     ]
    }
   ],
   "source": [
    "#default arguments\n",
    "def check3(name,age=23):\n",
    "    print(\"name is:\",name)\n",
    "    print(\"age is:\",age)\n",
    "check3(\"honey\",25)"
   ]
  },
  {
   "cell_type": "code",
   "execution_count": 29,
   "metadata": {},
   "outputs": [
    {
     "ename": "TypeError",
     "evalue": "check4() takes 2 positional arguments but 5 were given",
     "output_type": "error",
     "traceback": [
      "\u001b[1;31m---------------------------------------------------------------------------\u001b[0m",
      "\u001b[1;31mTypeError\u001b[0m                                 Traceback (most recent call last)",
      "\u001b[1;32m<ipython-input-29-5d75f4841d43>\u001b[0m in \u001b[0;36m<module>\u001b[1;34m\u001b[0m\n\u001b[0;32m      3\u001b[0m     \u001b[0mprint\u001b[0m\u001b[1;33m(\u001b[0m\u001b[1;34m\"name is:\"\u001b[0m\u001b[1;33m,\u001b[0m\u001b[0mname\u001b[0m\u001b[1;33m)\u001b[0m\u001b[1;33m\u001b[0m\u001b[1;33m\u001b[0m\u001b[0m\n\u001b[0;32m      4\u001b[0m     \u001b[0mprint\u001b[0m\u001b[1;33m(\u001b[0m\u001b[1;34m\"marks are:\"\u001b[0m\u001b[1;33m,\u001b[0m\u001b[0mmarks\u001b[0m\u001b[1;33m)\u001b[0m\u001b[1;33m\u001b[0m\u001b[1;33m\u001b[0m\u001b[0m\n\u001b[1;32m----> 5\u001b[1;33m \u001b[0mcheck4\u001b[0m\u001b[1;33m(\u001b[0m\u001b[1;34m\"honey\"\u001b[0m\u001b[1;33m,\u001b[0m\u001b[1;36m34\u001b[0m\u001b[1;33m,\u001b[0m\u001b[1;36m45\u001b[0m\u001b[1;33m,\u001b[0m\u001b[1;36m48\u001b[0m\u001b[1;33m,\u001b[0m\u001b[1;36m50\u001b[0m\u001b[1;33m)\u001b[0m\u001b[1;33m\u001b[0m\u001b[1;33m\u001b[0m\u001b[0m\n\u001b[0m",
      "\u001b[1;31mTypeError\u001b[0m: check4() takes 2 positional arguments but 5 were given"
     ]
    }
   ],
   "source": [
    "# variable length arguements(*arg) (or) arbitory arguments\n",
    "def check4(name,marks):\n",
    "    print(\"name is:\",name)\n",
    "    print(\"marks are:\",marks)\n",
    "check4(\"honey\",34,45,48,50)"
   ]
  },
  {
   "cell_type": "code",
   "execution_count": 31,
   "metadata": {},
   "outputs": [
    {
     "name": "stdout",
     "output_type": "stream",
     "text": [
      "name is: 12\n",
      "marks are: (13, 14, 15, 10)\n"
     ]
    }
   ],
   "source": [
    "def check4(name,*marks):\n",
    "    print(\"name is:\",name)\n",
    "    print(\"marks are:\",marks)\n",
    "#check4(\"honey\",34,45,48,50)\n",
    "check4(12,13,14,15,10)"
   ]
  },
  {
   "cell_type": "code",
   "execution_count": 35,
   "metadata": {},
   "outputs": [
    {
     "ename": "TypeError",
     "evalue": "check4() missing 1 required keyword-only argument: 'name'",
     "output_type": "error",
     "traceback": [
      "\u001b[1;31m---------------------------------------------------------------------------\u001b[0m",
      "\u001b[1;31mTypeError\u001b[0m                                 Traceback (most recent call last)",
      "\u001b[1;32m<ipython-input-35-1a2affd4dae4>\u001b[0m in \u001b[0;36m<module>\u001b[1;34m\u001b[0m\n\u001b[0;32m      4\u001b[0m     \u001b[0mprint\u001b[0m\u001b[1;33m(\u001b[0m\u001b[1;34m\"marks are:\"\u001b[0m\u001b[1;33m,\u001b[0m\u001b[0mmarks\u001b[0m\u001b[1;33m)\u001b[0m\u001b[1;33m\u001b[0m\u001b[1;33m\u001b[0m\u001b[0m\n\u001b[0;32m      5\u001b[0m \u001b[1;31m#check4(\"honey\",34,45,48,50)\u001b[0m\u001b[1;33m\u001b[0m\u001b[1;33m\u001b[0m\u001b[1;33m\u001b[0m\u001b[0m\n\u001b[1;32m----> 6\u001b[1;33m \u001b[0mcheck4\u001b[0m\u001b[1;33m(\u001b[0m\u001b[1;36m12\u001b[0m\u001b[1;33m,\u001b[0m\u001b[1;36m13\u001b[0m\u001b[1;33m,\u001b[0m\u001b[1;36m14\u001b[0m\u001b[1;33m,\u001b[0m\u001b[1;36m15\u001b[0m\u001b[1;33m,\u001b[0m\u001b[1;36m10\u001b[0m\u001b[1;33m)\u001b[0m\u001b[1;33m\u001b[0m\u001b[1;33m\u001b[0m\u001b[0m\n\u001b[0m",
      "\u001b[1;31mTypeError\u001b[0m: check4() missing 1 required keyword-only argument: 'name'"
     ]
    }
   ],
   "source": [
    "# first is should be any one parameter or variable length arguement \n",
    "def check4(*marks,name):\n",
    "    print(\"name is:\",name)\n",
    "    print(\"marks are:\",marks)\n",
    "#check4(\"honey\",34,45,48,50)\n",
    "check4(12,13,14,15,10)"
   ]
  },
  {
   "cell_type": "code",
   "execution_count": 36,
   "metadata": {},
   "outputs": [
    {
     "name": "stdout",
     "output_type": "stream",
     "text": [
      "marks are: (12, 13, 14, 15, 10)\n"
     ]
    }
   ],
   "source": [
    "def check4(*marks):\n",
    "    print(\"marks are:\",marks)\n",
    "#check4(\"honey\",34,45,48,50)\n",
    "check4(12,13,14,15,10)"
   ]
  },
  {
   "cell_type": "code",
   "execution_count": 37,
   "metadata": {},
   "outputs": [
    {
     "name": "stdout",
     "output_type": "stream",
     "text": [
      "{'name': 'honey', 'age': 23, 'add': 'hyd', 'loc': 'srnagar'}\n"
     ]
    }
   ],
   "source": [
    "# keyword length arguments:\n",
    "def check5(**result):\n",
    "    print(result)\n",
    "check5(name=\"honey\",age=23,add=\"hyd\",loc=\"srnagar\")"
   ]
  },
  {
   "cell_type": "code",
   "execution_count": 39,
   "metadata": {},
   "outputs": [
    {
     "name": "stdout",
     "output_type": "stream",
     "text": [
      "enter name honey\n",
      "m1 marks12\n",
      "m2 marks13\n",
      "m3 marks14\n",
      "your name is: honey and your marks are: 39\n"
     ]
    }
   ],
   "source": [
    "# find the sum of marks of student using varible lenght arguments\n",
    "#findmarks(\"name\",34,34,40)\n",
    "def findmarks(name,*marks):\n",
    "    print(\"your name is:\",name,\"and your marks are:\",sum(marks))\n",
    "\n",
    "name=input(\"enter name \")\n",
    "m1=int(input(\"m1 marks\"))\n",
    "m2=int(input(\"m2 marks\"))\n",
    "m3=int(input(\"m3 marks\"))\n",
    "findmarks(name,m1,m2,m3)"
   ]
  },
  {
   "cell_type": "code",
   "execution_count": null,
   "metadata": {},
   "outputs": [],
   "source": []
  }
 ],
 "metadata": {
  "kernelspec": {
   "display_name": "Python 3",
   "language": "python",
   "name": "python3"
  },
  "language_info": {
   "codemirror_mode": {
    "name": "ipython",
    "version": 3
   },
   "file_extension": ".py",
   "mimetype": "text/x-python",
   "name": "python",
   "nbconvert_exporter": "python",
   "pygments_lexer": "ipython3",
   "version": "3.7.3"
  }
 },
 "nbformat": 4,
 "nbformat_minor": 2
}
