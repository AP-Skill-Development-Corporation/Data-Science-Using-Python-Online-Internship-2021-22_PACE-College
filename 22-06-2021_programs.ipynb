{
 "cells": [
  {
   "cell_type": "code",
   "execution_count": 7,
   "metadata": {},
   "outputs": [
    {
     "data": {
      "text/plain": [
       "[2, 4, 6, 8, 9, 7, 5, 3, 1]"
      ]
     },
     "execution_count": 7,
     "metadata": {},
     "output_type": "execute_result"
    }
   ],
   "source": [
    "# l=[1,2,3,4,5,6,7,8,9]\n",
    "#output=> [2,4,6,8,9,7,5,3,1]\n",
    "l=[1,2,3,4,5,6,7,8,9]\n",
    "el=[]\n",
    "ol=[]\n",
    "for i in l:\n",
    "    if(i%2==0):\n",
    "        el.append(i)\n",
    "    else:\n",
    "        ol.append(i)\n",
    "\n",
    "a=sorted(ol,reverse=True)\n",
    "el+a"
   ]
  },
  {
   "cell_type": "code",
   "execution_count": 9,
   "metadata": {},
   "outputs": [
    {
     "data": {
      "text/plain": [
       "'lello welcome to alh'"
      ]
     },
     "execution_count": 9,
     "metadata": {},
     "output_type": "execute_result"
    }
   ],
   "source": [
    "s='hello welcome to all'\n",
    "#output=>oellh\n",
    "s[-1]+s[1:-1]+s[0]"
   ]
  },
  {
   "cell_type": "code",
   "execution_count": null,
   "metadata": {},
   "outputs": [],
   "source": [
    "# find the how many characters in a string\n",
    "# find the how many words in a paragraph\n",
    "# count the characters without space\n",
    "# remove the special character in a string\n",
    "# find the sub-string in given string\n",
    "#ex: \"hello welcome to all\", \"hello\"\n"
   ]
  }
 ],
 "metadata": {
  "kernelspec": {
   "display_name": "Python 3",
   "language": "python",
   "name": "python3"
  },
  "language_info": {
   "codemirror_mode": {
    "name": "ipython",
    "version": 3
   },
   "file_extension": ".py",
   "mimetype": "text/x-python",
   "name": "python",
   "nbconvert_exporter": "python",
   "pygments_lexer": "ipython3",
   "version": "3.7.3"
  }
 },
 "nbformat": 4,
 "nbformat_minor": 2
}
