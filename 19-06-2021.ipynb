{
 "cells": [
  {
   "cell_type": "code",
   "execution_count": 1,
   "metadata": {},
   "outputs": [
    {
     "name": "stdout",
     "output_type": "stream",
     "text": [
      "enter a number 10\n",
      "0 1 1 2 3 5 8 13 21 34 "
     ]
    }
   ],
   "source": [
    "# print the fibonacci series upto n values\n",
    "# ex: 10 => 0 1 1 2 3 5 8 13 21 34\n",
    "\n",
    "n=int(input(\"enter a number \"))\n",
    "a=0\n",
    "b=1\n",
    "c=0\n",
    "if(n==0):\n",
    "    print(\"enter valid number\")\n",
    "elif(n==1):\n",
    "    print(a)\n",
    "else:\n",
    "    while(c<n):\n",
    "        print(a,end=\" \")\n",
    "        t=a+b\n",
    "        a=b\n",
    "        b=t\n",
    "        c=c+1        \n",
    "\n"
   ]
  },
  {
   "cell_type": "code",
   "execution_count": 3,
   "metadata": {},
   "outputs": [
    {
     "name": "stdout",
     "output_type": "stream",
     "text": [
      "enter a number 20\n",
      "0 1 1 2 3 5 8 13 "
     ]
    }
   ],
   "source": [
    "# print the fibonacci series upto nth number\n",
    "# ex: n=10 => 0 1 2 3 5 8\n",
    "n=int(input(\"enter a number \"))\n",
    "a=0\n",
    "b=1\n",
    "c=0\n",
    "if(n==0):\n",
    "    print(\"enter valid number\")\n",
    "elif(n==1):\n",
    "    print(a)\n",
    "else:\n",
    "    while(c<n):\n",
    "        if(a<=n):\n",
    "            print(a,end=\" \")\n",
    "        t=a+b\n",
    "        a=b\n",
    "        b=t\n",
    "        c=c+1 \n",
    "        \n",
    "# print the nth position in fibonacci series\n",
    "# print the primary fibonacci series\n",
    "# print the nth fibonacci number"
   ]
  },
  {
   "cell_type": "code",
   "execution_count": 5,
   "metadata": {},
   "outputs": [
    {
     "name": "stdout",
     "output_type": "stream",
     "text": [
      "enter a value 121\n",
      "palindrome\n"
     ]
    }
   ],
   "source": [
    "# print the given number is palindrome or not\n",
    "# reverse of a number is equal to given number is called palindrome\n",
    "# ex: 121==121 => palindrome\n",
    "\n",
    "n=int(input(\"enter a value \"))\n",
    "t=n\n",
    "s=0\n",
    "while(n>0):   #0>0\n",
    "    r=n%10    #r=1%10 => 1\n",
    "    s=s*10+r  # s=121\n",
    "    n=n//10   # n=1//10=> 0\n",
    "    \n",
    "\n",
    "if(t==s):\n",
    "    print(\"palindrome\")\n",
    "else:\n",
    "    print(\"not a palindrome\")\n",
    "    \n",
    "# print the in between range of palindromes"
   ]
  },
  {
   "cell_type": "code",
   "execution_count": 11,
   "metadata": {},
   "outputs": [
    {
     "name": "stdout",
     "output_type": "stream",
     "text": [
      "enter a number 1634\n",
      "armstrong\n"
     ]
    }
   ],
   "source": [
    "# print the given number is armstrong or not\n",
    "# armstrong: sum of the cubes of idividual number is equal to given number is armstrong\n",
    "# armstrong: sum of the power of length of individual number is equal to to the given number\n",
    "# ex: 153 => 1**3+5**3+3**3\n",
    "# ex: 1634 => 1**4+6**4+3**4+4**4\n",
    "\n",
    "n=int(input(\"enter a number \"))\n",
    "l=len(str(n))\n",
    "t=n\n",
    "s=0\n",
    "while(n>0):     #0>0\n",
    "    r=n%10      #r=1%10 => r=1\n",
    "    s=s+r**l    #s=153\n",
    "    n=n//10     #n=1//10 => n=0\n",
    "if(t==s):\n",
    "    print(\"armstrong\")\n",
    "else:\n",
    "    print(\"not a armstrong\")\n",
    "    \n",
    "# print the in between range of armstrong numbers  \n",
    "# count the no.of armstrong number in between range of 1 to 1000"
   ]
  },
  {
   "cell_type": "code",
   "execution_count": 14,
   "metadata": {},
   "outputs": [
    {
     "name": "stdout",
     "output_type": "stream",
     "text": [
      "enter a year 2016\n",
      "leap year\n"
     ]
    }
   ],
   "source": [
    "# print the given year is leap year or not\n",
    "# a number divisible by 4 and divisible by 400 and not divisible by 100\n",
    "# 2012 => leap year\n",
    "\n",
    "n=int(input(\"enter a year \"))\n",
    "if(n%4==0 and n%100!=0 or n%400==0):\n",
    "    print(\"leap year\")\n",
    "else:\n",
    "    print(\"not a leap year\")"
   ]
  },
  {
   "cell_type": "code",
   "execution_count": 15,
   "metadata": {},
   "outputs": [
    {
     "name": "stdout",
     "output_type": "stream",
     "text": [
      "enter a first number2000\n",
      "enter a second number 2020\n",
      "2000 2004 2008 2012 2016 2020 "
     ]
    }
   ],
   "source": [
    "# print the in between range of leap years\n",
    "n1=int(input(\"enter a first number\"))\n",
    "n2=int(input(\"enter a second number \"))\n",
    "for i in range(n1,n2+1):\n",
    "    if(i%4==0 and i%100!=0 or i%400==0):\n",
    "        print(i,end=\" \")\n"
   ]
  },
  {
   "cell_type": "code",
   "execution_count": 17,
   "metadata": {},
   "outputs": [
    {
     "name": "stdout",
     "output_type": "stream",
     "text": [
      "enter a number 123\n",
      "lucky digit\n"
     ]
    }
   ],
   "source": [
    "# find the given number is lucky digit or not\n",
    "# ex:123 => lucky digit ; 1223=> not a lucky digit number\n",
    "n=int(input(\"enter a number \"))\n",
    "s=str(n)\n",
    "s1=\"\"\n",
    "s2=\"\"\n",
    "for i in s:            #1223\n",
    "    if i not in s1:    #3\n",
    "        s1=s1+i        #s1=123\n",
    "    else:\n",
    "        s2=s2+i        #s2=2\n",
    "if(len(s2)==0):\n",
    "    print(\"lucky digit\")\n",
    "else:\n",
    "    print(\"not a lucky digit\")\n"
   ]
  },
  {
   "cell_type": "code",
   "execution_count": 19,
   "metadata": {},
   "outputs": [
    {
     "name": "stdout",
     "output_type": "stream",
     "text": [
      "enter a number 12345\n",
      "single digit number is: 6\n"
     ]
    }
   ],
   "source": [
    "# Find the sum of digits upto get single digit\n",
    "# 12345=>15=>6\n",
    "n=int(input(\"enter a number \"))\n",
    "s=0\n",
    "while(n>0 or s>9):     #0>0 or 15>9\n",
    "    if(n==0):          #0==0\n",
    "        n=s            #n=15\n",
    "        s=0            #s=0\n",
    "    r=n%10\n",
    "    s=s+r              #s=15\n",
    "    n=n//10            #n=0\n",
    "print(\"single digit number is:\",s)"
   ]
  },
  {
   "cell_type": "code",
   "execution_count": 26,
   "metadata": {},
   "outputs": [
    {
     "data": {
      "text/plain": [
       "[4, 5, 1, 2, 3]"
      ]
     },
     "execution_count": 26,
     "metadata": {},
     "output_type": "execute_result"
    }
   ],
   "source": [
    "# print rotation of a list\n",
    "# i/p=>l=[1,2,3,4,5]    r=2\n",
    "# o/p=>l=[4,5,1,2,3]\n",
    "l=[1,2,3,4,5]\n",
    "l[3:]+l[:3]"
   ]
  },
  {
   "cell_type": "code",
   "execution_count": null,
   "metadata": {},
   "outputs": [],
   "source": [
    "# print the string next position\n",
    "# ex: hello => ifmmp\n",
    "\n",
    "#print the string next position without change space\n",
    "# ex: hello welcome=> iffmp xfmdpnf"
   ]
  }
 ],
 "metadata": {
  "kernelspec": {
   "display_name": "Python 3",
   "language": "python",
   "name": "python3"
  },
  "language_info": {
   "codemirror_mode": {
    "name": "ipython",
    "version": 3
   },
   "file_extension": ".py",
   "mimetype": "text/x-python",
   "name": "python",
   "nbconvert_exporter": "python",
   "pygments_lexer": "ipython3",
   "version": "3.7.3"
  }
 },
 "nbformat": 4,
 "nbformat_minor": 2
}
