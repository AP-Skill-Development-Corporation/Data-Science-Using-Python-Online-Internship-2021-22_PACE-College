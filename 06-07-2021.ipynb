{
 "cells": [
  {
   "cell_type": "markdown",
   "metadata": {},
   "source": [
    "### Data\n",
    "* What is data\n",
    "* Types of Data\n",
    "* Represent of Data\n",
    "\n",
    "### Requirment for learn Data analysis\n",
    "* Python\n",
    "* Numpy\n",
    "* Pandas\n",
    "* Data Visulization"
   ]
  },
  {
   "cell_type": "markdown",
   "metadata": {},
   "source": [
    "### Numpy:\n",
    "\n",
    "* Numpy Stands for numerical python\n",
    "* Numpy is python library for working with arrays,matrices,large and scietific calculations\n",
    "\n",
    "### Numpy provides:\n",
    "\n",
    "* Extension package to python for multi-dimenstional arrays\n",
    "* It is closer to hardware \n",
    "* It provide more efficiency \n",
    "* It designed for scientif computation\n",
    "\n",
    "\n",
    "### how to use numpy\n",
    "\n",
    "* pip install numpy  => installation command\n",
    "* we have to import numpy library\n",
    "* It is pre-defined lib in jupyter"
   ]
  },
  {
   "cell_type": "code",
   "execution_count": 1,
   "metadata": {},
   "outputs": [
    {
     "data": {
      "text/plain": [
       "'1.19.5'"
      ]
     },
     "execution_count": 1,
     "metadata": {},
     "output_type": "execute_result"
    }
   ],
   "source": [
    "import numpy as np\n",
    "np.__version__"
   ]
  },
  {
   "cell_type": "code",
   "execution_count": 2,
   "metadata": {},
   "outputs": [
    {
     "data": {
      "text/plain": [
       "array([10, 20, 30, 40, 50])"
      ]
     },
     "execution_count": 2,
     "metadata": {},
     "output_type": "execute_result"
    }
   ],
   "source": [
    "# create numpy array\n",
    "a=np.array([10,20,30,40,50])\n",
    "a"
   ]
  },
  {
   "cell_type": "code",
   "execution_count": 3,
   "metadata": {},
   "outputs": [
    {
     "data": {
      "text/plain": [
       "numpy.ndarray"
      ]
     },
     "execution_count": 3,
     "metadata": {},
     "output_type": "execute_result"
    }
   ],
   "source": [
    "type(a)"
   ]
  },
  {
   "cell_type": "markdown",
   "metadata": {},
   "source": [
    "* If data is 1D array => Vector\n",
    "* If data is 2D array => matrices\n",
    "* If data is 3D,4D,5D.. => Tensor"
   ]
  },
  {
   "cell_type": "code",
   "execution_count": 6,
   "metadata": {},
   "outputs": [
    {
     "name": "stdout",
     "output_type": "stream",
     "text": [
      "[10 20 30 40 50]\n",
      "Type of a: <class 'numpy.ndarray'>\n",
      "Dimentions of a: 1\n",
      "shape of a: (5,)\n"
     ]
    }
   ],
   "source": [
    "# 1D array\n",
    "a=np.array([10,20,30,40,50])\n",
    "print(a)\n",
    "print(\"Type of a:\",type(a))\n",
    "print(\"Dimentions of a:\",a.ndim)\n",
    "print(\"shape of a:\",a.shape)"
   ]
  },
  {
   "cell_type": "code",
   "execution_count": 7,
   "metadata": {},
   "outputs": [
    {
     "name": "stdout",
     "output_type": "stream",
     "text": [
      "[[10 20 30]\n",
      " [11 12 13]\n",
      " [23 45 67]]\n",
      "Type of a: <class 'numpy.ndarray'>\n",
      "Dimentions of a: 2\n",
      "shape of a: (3, 3)\n"
     ]
    }
   ],
   "source": [
    "# 2D array => list->list\n",
    "a=np.array([[10,20,30],[11,12,13],[23,45,67]])\n",
    "print(a)\n",
    "print(\"Type of a:\",type(a))\n",
    "print(\"Dimentions of a:\",a.ndim)\n",
    "print(\"shape of a:\",a.shape)"
   ]
  },
  {
   "cell_type": "code",
   "execution_count": 8,
   "metadata": {},
   "outputs": [
    {
     "name": "stdout",
     "output_type": "stream",
     "text": [
      "[[[ 1  2  3]\n",
      "  [ 4  5  6]]\n",
      "\n",
      " [[ 9  8  7]\n",
      "  [ 5  4  3]]\n",
      "\n",
      " [[10 20 30]\n",
      "  [50 60 70]]]\n",
      "Type of a: <class 'numpy.ndarray'>\n",
      "Dimentions of a: 3\n",
      "shape of a: (3, 2, 3)\n"
     ]
    }
   ],
   "source": [
    "# 3D array => list->list->list\n",
    "a=np.array([[[1,2,3],[4,5,6]],[[9,8,7],[5,4,3]],[[10,20,30],[50,60,70]]])\n",
    "print(a)\n",
    "print(\"Type of a:\",type(a))\n",
    "print(\"Dimentions of a:\",a.ndim)\n",
    "print(\"shape of a:\",a.shape)"
   ]
  },
  {
   "cell_type": "code",
   "execution_count": 10,
   "metadata": {},
   "outputs": [
    {
     "name": "stdout",
     "output_type": "stream",
     "text": [
      "542 µs ± 10.3 µs per loop (mean ± std. dev. of 7 runs, 1000 loops each)\n"
     ]
    }
   ],
   "source": [
    "# difference b/w list and numpy\n",
    "\n",
    "#normal list\n",
    "l=range(1000)\n",
    "%timeit [i**2 for i in l]"
   ]
  },
  {
   "cell_type": "code",
   "execution_count": 14,
   "metadata": {},
   "outputs": [
    {
     "name": "stdout",
     "output_type": "stream",
     "text": [
      "521 µs ± 6.82 µs per loop (mean ± std. dev. of 7 runs, 1000 loops each)\n"
     ]
    }
   ],
   "source": [
    "l=np.arange(1000)\n",
    "%timeit [i**2 for i in l]"
   ]
  },
  {
   "cell_type": "code",
   "execution_count": 16,
   "metadata": {},
   "outputs": [
    {
     "data": {
      "text/plain": [
       "array([ 1.  ,  3.25,  5.5 ,  7.75, 10.  ])"
      ]
     },
     "execution_count": 16,
     "metadata": {},
     "output_type": "execute_result"
    }
   ],
   "source": [
    "# linspace: linear space used for divide our data into equal parts\n",
    "import numpy as np\n",
    "l=np.linspace(1,10,5)\n",
    "l\n"
   ]
  },
  {
   "cell_type": "code",
   "execution_count": 19,
   "metadata": {},
   "outputs": [
    {
     "data": {
      "text/plain": [
       "array([ 1,  3,  5,  7,  9, 11, 13, 15, 17, 19])"
      ]
     },
     "execution_count": 19,
     "metadata": {},
     "output_type": "execute_result"
    }
   ],
   "source": [
    "# arange: used for take the data in a range of values\n",
    "l=np.arange(10)\n",
    "#l\n",
    "l=np.arange(10,24) # start(included),end(excluded)\n",
    "#l\n",
    "l=np.arange(1,20,2) # start(included),end(excluded),step\n",
    "l"
   ]
  },
  {
   "cell_type": "code",
   "execution_count": 20,
   "metadata": {
    "scrolled": true
   },
   "outputs": [
    {
     "data": {
      "text/plain": [
       "array([[1., 1.],\n",
       "       [1., 1.],\n",
       "       [1., 1.]])"
      ]
     },
     "execution_count": 20,
     "metadata": {},
     "output_type": "execute_result"
    }
   ],
   "source": [
    "# one's : it return one's in your array\n",
    "l=np.ones((3,2))   # 3 rows, 2 columns\n",
    "l"
   ]
  },
  {
   "cell_type": "code",
   "execution_count": 24,
   "metadata": {},
   "outputs": [
    {
     "data": {
      "text/plain": [
       "array([[0., 0.],\n",
       "       [0., 0.],\n",
       "       [0., 0.]])"
      ]
     },
     "execution_count": 24,
     "metadata": {},
     "output_type": "execute_result"
    }
   ],
   "source": [
    "# zero's: it return zero's in your array\n",
    "l=np.zeros((2,3))\n",
    "#l\n",
    "l=np.zeros((3,2))\n",
    "l"
   ]
  },
  {
   "cell_type": "code",
   "execution_count": 28,
   "metadata": {},
   "outputs": [
    {
     "data": {
      "text/plain": [
       "array([[1., 0.],\n",
       "       [0., 1.],\n",
       "       [0., 0.]])"
      ]
     },
     "execution_count": 28,
     "metadata": {},
     "output_type": "execute_result"
    }
   ],
   "source": [
    "# Identity matrix: eye (diagnal reprasents with one's)\n",
    "\n",
    "l=np.eye(3)\n",
    "l=np.eye(2)\n",
    "l=np.eye(2,3)\n",
    "l=np.eye(3,2)\n",
    "l"
   ]
  },
  {
   "cell_type": "code",
   "execution_count": 29,
   "metadata": {},
   "outputs": [
    {
     "data": {
      "text/plain": [
       "array([[1, 0, 0, 0, 0],\n",
       "       [0, 2, 0, 0, 0],\n",
       "       [0, 0, 3, 0, 0],\n",
       "       [0, 0, 0, 4, 0],\n",
       "       [0, 0, 0, 0, 5]])"
      ]
     },
     "execution_count": 29,
     "metadata": {},
     "output_type": "execute_result"
    }
   ],
   "source": [
    "# diagnal\n",
    "l=np.diag([1,2,3,4,5])\n",
    "l"
   ]
  },
  {
   "cell_type": "code",
   "execution_count": 31,
   "metadata": {},
   "outputs": [
    {
     "name": "stdout",
     "output_type": "stream",
     "text": [
      "[[1 2 3]\n",
      " [4 5 6]\n",
      " [7 8 9]]\n"
     ]
    },
    {
     "data": {
      "text/plain": [
       "array([1, 5, 9])"
      ]
     },
     "execution_count": 31,
     "metadata": {},
     "output_type": "execute_result"
    }
   ],
   "source": [
    "# Task: extract the diagnal values in array\n",
    "# output: 1,5,9\n",
    "l=np.array([[1,2,3],[4,5,6],[7,8,9]])\n",
    "print(l)\n",
    "np.diag(l)"
   ]
  },
  {
   "cell_type": "code",
   "execution_count": 42,
   "metadata": {},
   "outputs": [
    {
     "name": "stdout",
     "output_type": "stream",
     "text": [
      "[[0 1 2]\n",
      " [3 4 5]\n",
      " [6 7 8]]\n"
     ]
    },
    {
     "data": {
      "text/plain": [
       "array([2, 4, 6])"
      ]
     },
     "execution_count": 42,
     "metadata": {},
     "output_type": "execute_result"
    }
   ],
   "source": [
    "a=np.arange(9).reshape(3,3)\n",
    "print(a)\n",
    "np.diag(a)\n",
    "np.flip(a)\n",
    "np.fliplr(a)\n",
    "np.flipud(a)\n",
    "np.fliplr(a).diagonal()"
   ]
  },
  {
   "cell_type": "code",
   "execution_count": null,
   "metadata": {},
   "outputs": [],
   "source": []
  }
 ],
 "metadata": {
  "kernelspec": {
   "display_name": "Python 3",
   "language": "python",
   "name": "python3"
  },
  "language_info": {
   "codemirror_mode": {
    "name": "ipython",
    "version": 3
   },
   "file_extension": ".py",
   "mimetype": "text/x-python",
   "name": "python",
   "nbconvert_exporter": "python",
   "pygments_lexer": "ipython3",
   "version": "3.7.3"
  }
 },
 "nbformat": 4,
 "nbformat_minor": 2
}
