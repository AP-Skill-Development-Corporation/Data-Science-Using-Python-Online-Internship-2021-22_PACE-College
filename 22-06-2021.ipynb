{
 "cells": [
  {
   "cell_type": "code",
   "execution_count": 1,
   "metadata": {},
   "outputs": [],
   "source": [
    "# What is OOPs?\n",
    "#1.What is a class\n",
    "#2.Object and Object instantion\n",
    "#3.Class mothods\n",
    "#4.Inherition in Python Class\n",
    "#5.Encapsulition\n",
    "#6.Polymorphism\n",
    "#7.Data abstrcation\n",
    "\n",
    "\n",
    "\n",
    "# is all about creating objects\n",
    "# A group of interrelated Varibles and Funcations\n",
    "\n",
    "\n",
    "#bike  Color,model,brand\n",
    "# accceleration and gear chANGE\n"
   ]
  },
  {
   "cell_type": "code",
   "execution_count": 2,
   "metadata": {},
   "outputs": [],
   "source": [
    "#what is a Class?\n",
    "\n",
    "# A class is collection of objects"
   ]
  },
  {
   "cell_type": "code",
   "execution_count": 3,
   "metadata": {},
   "outputs": [],
   "source": [
    "class Cal:pass\n",
    " "
   ]
  },
  {
   "cell_type": "code",
   "execution_count": 4,
   "metadata": {},
   "outputs": [],
   "source": [
    "# defin a class only the description or a blueprint oo the object is created"
   ]
  },
  {
   "cell_type": "code",
   "execution_count": 6,
   "metadata": {},
   "outputs": [
    {
     "name": "stdout",
     "output_type": "stream",
     "text": [
      "<__main__.Cal object at 0x0000018A27FAC9A0>\n"
     ]
    }
   ],
   "source": [
    "obj1=Cal()\n",
    "print(obj1)"
   ]
  },
  {
   "cell_type": "code",
   "execution_count": 7,
   "metadata": {},
   "outputs": [],
   "source": [
    "#the Class constrcuctor is to assign the value to the data memebrs os the class when an \n",
    "#object of the class is created\n",
    "class Car:\n",
    "    def __init__(self,name,color): # instance Mothed\n",
    "        self.name=name      #Instance attribute\n",
    "        self.color=color    #Instance attribute\n"
   ]
  },
  {
   "cell_type": "code",
   "execution_count": 9,
   "metadata": {},
   "outputs": [
    {
     "name": "stdout",
     "output_type": "stream",
     "text": [
      "bunny\n",
      "100\n",
      "chinny\n",
      "101\n"
     ]
    }
   ],
   "source": [
    "#Class \n",
    "#Object\n",
    "#reference Varible\n",
    "\n",
    "class Student:\n",
    "    def __init__(gopi,rollno,name):\n",
    "        gopi.rollno=rollno\n",
    "        gopi.name=name\n",
    "    def talk(gopi):\n",
    "        print(gopi.name)\n",
    "        print(gopi.rollno)\n",
    "s=Student(100,\"bunny\")\n",
    "print(s.name)\n",
    "print(s.rollno)\n",
    "s1=Student(101,\"chinny\")\n",
    "print(s1.name)\n",
    "print(s1.rollno)\n",
    "\n"
   ]
  },
  {
   "cell_type": "code",
   "execution_count": 10,
   "metadata": {},
   "outputs": [
    {
     "name": "stdout",
     "output_type": "stream",
     "text": [
      "100\n",
      "nani\n",
      "10000\n",
      "hyd\n",
      "200\n",
      "gani\n",
      "10000\n",
      "chenni\n"
     ]
    }
   ],
   "source": [
    "class Emp:\n",
    "    def __init__(gopi,eno,ename,esal,eadds):\n",
    "        gopi.eno=eno\n",
    "        gopi.ename=ename\n",
    "        gopi.esal=esal\n",
    "        gopi.eadds=eadds\n",
    "    def Info(gopi):\n",
    "        print(gopi.eno)\n",
    "        print(gopi.ename)\n",
    "        print(gopi.esal)\n",
    "        print(gopi.eadds)\n",
    "e1=Emp(100,\"nani\",10000,\"hyd\")\n",
    "e2=Emp(200,\"gani\",10000,\"chenni\")\n",
    "e1.Info()\n",
    "e2.Info()"
   ]
  },
  {
   "cell_type": "code",
   "execution_count": 14,
   "metadata": {},
   "outputs": [
    {
     "name": "stdout",
     "output_type": "stream",
     "text": [
      "con\n"
     ]
    }
   ],
   "source": [
    "class Inti:\n",
    "    def __init__(s):\n",
    "        print(\"con\")\n",
    "t=Inti()"
   ]
  },
  {
   "cell_type": "code",
   "execution_count": null,
   "metadata": {},
   "outputs": [],
   "source": []
  }
 ],
 "metadata": {
  "kernelspec": {
   "display_name": "Python 3",
   "language": "python",
   "name": "python3"
  },
  "language_info": {
   "codemirror_mode": {
    "name": "ipython",
    "version": 3
   },
   "file_extension": ".py",
   "mimetype": "text/x-python",
   "name": "python",
   "nbconvert_exporter": "python",
   "pygments_lexer": "ipython3",
   "version": "3.8.3"
  }
 },
 "nbformat": 4,
 "nbformat_minor": 4
}
