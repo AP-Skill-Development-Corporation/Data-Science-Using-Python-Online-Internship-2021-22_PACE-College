{
 "cells": [
  {
   "cell_type": "markdown",
   "metadata": {},
   "source": [
    "### string methods"
   ]
  },
  {
   "cell_type": "code",
   "execution_count": 28,
   "metadata": {},
   "outputs": [
    {
     "data": {
      "text/plain": [
       "['__add__',\n",
       " '__class__',\n",
       " '__contains__',\n",
       " '__delattr__',\n",
       " '__dir__',\n",
       " '__doc__',\n",
       " '__eq__',\n",
       " '__format__',\n",
       " '__ge__',\n",
       " '__getattribute__',\n",
       " '__getitem__',\n",
       " '__getnewargs__',\n",
       " '__gt__',\n",
       " '__hash__',\n",
       " '__init__',\n",
       " '__init_subclass__',\n",
       " '__iter__',\n",
       " '__le__',\n",
       " '__len__',\n",
       " '__lt__',\n",
       " '__mod__',\n",
       " '__mul__',\n",
       " '__ne__',\n",
       " '__new__',\n",
       " '__reduce__',\n",
       " '__reduce_ex__',\n",
       " '__repr__',\n",
       " '__rmod__',\n",
       " '__rmul__',\n",
       " '__setattr__',\n",
       " '__sizeof__',\n",
       " '__str__',\n",
       " '__subclasshook__',\n",
       " 'capitalize',\n",
       " 'casefold',\n",
       " 'center',\n",
       " 'count',\n",
       " 'encode',\n",
       " 'endswith',\n",
       " 'expandtabs',\n",
       " 'find',\n",
       " 'format',\n",
       " 'format_map',\n",
       " 'index',\n",
       " 'isalnum',\n",
       " 'isalpha',\n",
       " 'isascii',\n",
       " 'isdecimal',\n",
       " 'isdigit',\n",
       " 'isidentifier',\n",
       " 'islower',\n",
       " 'isnumeric',\n",
       " 'isprintable',\n",
       " 'isspace',\n",
       " 'istitle',\n",
       " 'isupper',\n",
       " 'join',\n",
       " 'ljust',\n",
       " 'lower',\n",
       " 'lstrip',\n",
       " 'maketrans',\n",
       " 'partition',\n",
       " 'replace',\n",
       " 'rfind',\n",
       " 'rindex',\n",
       " 'rjust',\n",
       " 'rpartition',\n",
       " 'rsplit',\n",
       " 'rstrip',\n",
       " 'split',\n",
       " 'splitlines',\n",
       " 'startswith',\n",
       " 'strip',\n",
       " 'swapcase',\n",
       " 'title',\n",
       " 'translate',\n",
       " 'upper',\n",
       " 'zfill']"
      ]
     },
     "execution_count": 28,
     "metadata": {},
     "output_type": "execute_result"
    }
   ],
   "source": [
    "s=\"\"\n",
    "dir(s)"
   ]
  },
  {
   "cell_type": "code",
   "execution_count": 4,
   "metadata": {},
   "outputs": [
    {
     "data": {
      "text/plain": [
       "'p**a**c**e'"
      ]
     },
     "execution_count": 4,
     "metadata": {},
     "output_type": "execute_result"
    }
   ],
   "source": [
    "# join\n",
    "s1='**'\n",
    "s2=\"pace\"\n",
    "s1.join(s2)"
   ]
  },
  {
   "cell_type": "code",
   "execution_count": 5,
   "metadata": {},
   "outputs": [
    {
     "data": {
      "text/plain": [
       "'a123b123c'"
      ]
     },
     "execution_count": 5,
     "metadata": {},
     "output_type": "execute_result"
    }
   ],
   "source": [
    "\"123\".join('abc')"
   ]
  },
  {
   "cell_type": "code",
   "execution_count": 6,
   "metadata": {},
   "outputs": [
    {
     "data": {
      "text/plain": [
       "'a**b**c**d**e**f**g**h**i**j'"
      ]
     },
     "execution_count": 6,
     "metadata": {},
     "output_type": "execute_result"
    }
   ],
   "source": [
    "s1='*'\n",
    "s2=\"abcdefghij\"\n",
    "s1.join(s2)\n",
    "\n",
    "# ab**cd*ef**gh"
   ]
  },
  {
   "cell_type": "code",
   "execution_count": 10,
   "metadata": {},
   "outputs": [
    {
     "data": {
      "text/plain": [
       "'ab*cd*ef*gh*ij'"
      ]
     },
     "execution_count": 10,
     "metadata": {},
     "output_type": "execute_result"
    }
   ],
   "source": [
    "s1='*'\n",
    "s2=\"abcdefghij\"\n",
    "l=[]\n",
    "for i in range(0,len(s2),2):\n",
    "    s3=\"\"\n",
    "    s3=s3+s2[i:i+2]     # s2[0:2] => ab\n",
    "    l.append(s3)\n",
    "s1.join(l)"
   ]
  },
  {
   "cell_type": "code",
   "execution_count": 16,
   "metadata": {},
   "outputs": [
    {
     "data": {
      "text/plain": [
       "'***abc'"
      ]
     },
     "execution_count": 16,
     "metadata": {},
     "output_type": "execute_result"
    }
   ],
   "source": [
    "#ljust\n",
    "s='abc'\n",
    "s.ljust(6)\n",
    "s.rjust(6)\n",
    "s.ljust(6,'*')\n",
    "s.rjust(6,'*')"
   ]
  },
  {
   "cell_type": "code",
   "execution_count": 17,
   "metadata": {},
   "outputs": [
    {
     "data": {
      "text/plain": [
       "'pace'"
      ]
     },
     "execution_count": 17,
     "metadata": {},
     "output_type": "execute_result"
    }
   ],
   "source": [
    "s=\"PACE\"\n",
    "s.lower()"
   ]
  },
  {
   "cell_type": "code",
   "execution_count": 23,
   "metadata": {},
   "outputs": [
    {
     "data": {
      "text/plain": [
       "'https://www.pace'"
      ]
     },
     "execution_count": 23,
     "metadata": {},
     "output_type": "execute_result"
    }
   ],
   "source": [
    "#strip\n",
    "s='  pace   '\n",
    "s.strip()\n",
    "s.lstrip()\n",
    "s.rstrip()\n",
    "\n",
    "web=\"https://www.pace.com\"\n",
    "web.lstrip('https://')\n",
    "web.rstrip('.com')"
   ]
  },
  {
   "cell_type": "code",
   "execution_count": 27,
   "metadata": {},
   "outputs": [
    {
     "name": "stdout",
     "output_type": "stream",
     "text": [
      "1.one, 2.two, 3.three\n"
     ]
    }
   ],
   "source": [
    "t=str.maketrans('abc','123')\n",
    "print(\"a.one, b.two, c.three\".translate(t))"
   ]
  },
  {
   "cell_type": "code",
   "execution_count": 29,
   "metadata": {},
   "outputs": [],
   "source": [
    "#subscript\n",
    "#superscript"
   ]
  },
  {
   "cell_type": "code",
   "execution_count": 31,
   "metadata": {},
   "outputs": [
    {
     "data": {
      "text/plain": [
       "('hello ', 'welcome', ' to all')"
      ]
     },
     "execution_count": 31,
     "metadata": {},
     "output_type": "execute_result"
    }
   ],
   "source": [
    "s=\"hello welcome to all\"\n",
    "s.partition('to')\n",
    "s.partition('welcome')"
   ]
  },
  {
   "cell_type": "code",
   "execution_count": 32,
   "metadata": {},
   "outputs": [
    {
     "data": {
      "text/plain": [
       "'hello welcome to everyone'"
      ]
     },
     "execution_count": 32,
     "metadata": {},
     "output_type": "execute_result"
    }
   ],
   "source": [
    "s='hello welcome to all'\n",
    "s.replace('all','everyone')"
   ]
  },
  {
   "cell_type": "code",
   "execution_count": 34,
   "metadata": {},
   "outputs": [
    {
     "data": {
      "text/plain": [
       "6"
      ]
     },
     "execution_count": 34,
     "metadata": {},
     "output_type": "execute_result"
    }
   ],
   "source": [
    "s='welcome'\n",
    "s.rfind('e')"
   ]
  },
  {
   "cell_type": "code",
   "execution_count": 35,
   "metadata": {},
   "outputs": [
    {
     "data": {
      "text/plain": [
       "6"
      ]
     },
     "execution_count": 35,
     "metadata": {},
     "output_type": "execute_result"
    }
   ],
   "source": [
    "s='welcome'\n",
    "s.rindex('e')"
   ]
  },
  {
   "cell_type": "code",
   "execution_count": 36,
   "metadata": {},
   "outputs": [
    {
     "data": {
      "text/plain": [
       "('hello welcome to ', 'all', ' everyone')"
      ]
     },
     "execution_count": 36,
     "metadata": {},
     "output_type": "execute_result"
    }
   ],
   "source": [
    "s='hello welcome to all everyone'\n",
    "s.rpartition('all')"
   ]
  },
  {
   "cell_type": "code",
   "execution_count": 39,
   "metadata": {},
   "outputs": [
    {
     "data": {
      "text/plain": [
       "['he', '', 'o a', '', '']"
      ]
     },
     "execution_count": 39,
     "metadata": {},
     "output_type": "execute_result"
    }
   ],
   "source": [
    "s=\"hello welcome to all\"\n",
    "s.split()       # default => space\n",
    "\n",
    "s='hello,welcome,to,all'\n",
    "s.split(',')\n",
    "\n",
    "s='hello all'\n",
    "s.split('l')"
   ]
  },
  {
   "cell_type": "code",
   "execution_count": 41,
   "metadata": {},
   "outputs": [
    {
     "data": {
      "text/plain": [
       "['hello welcome to all', 'for this program']"
      ]
     },
     "execution_count": 41,
     "metadata": {},
     "output_type": "execute_result"
    }
   ],
   "source": [
    "s=\"hello welcome to all\\nfor this program\"\n",
    "s.splitlines()"
   ]
  },
  {
   "cell_type": "code",
   "execution_count": 45,
   "metadata": {},
   "outputs": [
    {
     "data": {
      "text/plain": [
       "True"
      ]
     },
     "execution_count": 45,
     "metadata": {},
     "output_type": "execute_result"
    }
   ],
   "source": [
    "s=\"hello everyone\"\n",
    "s.startswith('hello')"
   ]
  },
  {
   "cell_type": "code",
   "execution_count": 46,
   "metadata": {},
   "outputs": [
    {
     "data": {
      "text/plain": [
       "'HeLLo WeLcome'"
      ]
     },
     "execution_count": 46,
     "metadata": {},
     "output_type": "execute_result"
    }
   ],
   "source": [
    "s='hEllO wElCOME'\n",
    "s.swapcase()"
   ]
  },
  {
   "cell_type": "code",
   "execution_count": 47,
   "metadata": {},
   "outputs": [
    {
     "data": {
      "text/plain": [
       "'Hello Welcome To Everyone'"
      ]
     },
     "execution_count": 47,
     "metadata": {},
     "output_type": "execute_result"
    }
   ],
   "source": [
    "s=\"hello welcome to everyone\"\n",
    "s.title()"
   ]
  },
  {
   "cell_type": "code",
   "execution_count": 48,
   "metadata": {},
   "outputs": [
    {
     "data": {
      "text/plain": [
       "'HELLO WELCOME'"
      ]
     },
     "execution_count": 48,
     "metadata": {},
     "output_type": "execute_result"
    }
   ],
   "source": [
    "s='hello welcome'\n",
    "s.upper()"
   ]
  },
  {
   "cell_type": "code",
   "execution_count": 49,
   "metadata": {},
   "outputs": [
    {
     "data": {
      "text/plain": [
       "'000abc'"
      ]
     },
     "execution_count": 49,
     "metadata": {},
     "output_type": "execute_result"
    }
   ],
   "source": [
    "s='abc'\n",
    "s.zfill(6)"
   ]
  },
  {
   "cell_type": "markdown",
   "metadata": {},
   "source": [
    "### Conditional statments\n",
    "\n",
    "* execute the program based on condition\n",
    "\n",
    "* if\n",
    "* else\n",
    "* elif\n",
    "* nested if"
   ]
  },
  {
   "cell_type": "code",
   "execution_count": 51,
   "metadata": {},
   "outputs": [
    {
     "name": "stdout",
     "output_type": "stream",
     "text": [
      "enter a number 4\n",
      "even\n"
     ]
    }
   ],
   "source": [
    "# print the given number is even or not\n",
    "n=int(input(\"enter a number \"))\n",
    "if(n%2==0):\n",
    "    print(\"even\")\n",
    "else:\n",
    "    print('odd')"
   ]
  },
  {
   "cell_type": "code",
   "execution_count": 54,
   "metadata": {},
   "outputs": [
    {
     "name": "stdout",
     "output_type": "stream",
     "text": [
      "valid user\n"
     ]
    }
   ],
   "source": [
    "name=\"ramu\"\n",
    "age=25\n",
    "if(name=='ramu' and age==25):\n",
    "    print(\"valid user\")\n",
    "else:\n",
    "    print(\"invalid user\")"
   ]
  },
  {
   "cell_type": "code",
   "execution_count": 59,
   "metadata": {},
   "outputs": [
    {
     "name": "stdout",
     "output_type": "stream",
     "text": [
      "enter a fruitmango\n",
      "this is a mango\n"
     ]
    }
   ],
   "source": [
    "name=input(\"enter a fruit\")\n",
    "if(name=='apple'):\n",
    "    print(\"this is an apple\")\n",
    "elif(name=='guva'):\n",
    "    print(\"this is a guva\")\n",
    "\n",
    "elif(name=='mango'):\n",
    "    print(\"this is a mango\")\n",
    "else:\n",
    "    print(\"enter a valid fruit\")\n",
    "    "
   ]
  },
  {
   "cell_type": "code",
   "execution_count": 63,
   "metadata": {},
   "outputs": [
    {
     "name": "stdout",
     "output_type": "stream",
     "text": [
      "enter your nameraju\n",
      "enter your pin number6767\n",
      "enter withdraw amount3000\n",
      "your available balance is 2000\n"
     ]
    }
   ],
   "source": [
    "name=\"raju\"\n",
    "pin='6767'\n",
    "balance=5000\n",
    "n=input(\"enter your name\")\n",
    "if(n==name):\n",
    "    p=input(\"enter your pin number\")\n",
    "    if(p==pin):\n",
    "        b=int(input(\"enter withdraw amount\"))\n",
    "        if(b>balance):\n",
    "            print(\"you don't have suuficient balance\",balance)\n",
    "        else:\n",
    "            balance=balance-b\n",
    "            print(\"your available balance is\",balance)\n",
    "    else:\n",
    "        print(\"Invalid pin\")\n",
    "else:\n",
    "    print(\"invalid user\")              "
   ]
  },
  {
   "cell_type": "code",
   "execution_count": 64,
   "metadata": {},
   "outputs": [
    {
     "name": "stdout",
     "output_type": "stream",
     "text": [
      "second number is big 200\n"
     ]
    }
   ],
   "source": [
    "# find the biggest of three numbers\n",
    "a,b,c=10,200,30\n",
    "if(a>b and a>c):\n",
    "    print(\"first number is big\",a)\n",
    "elif(b>a and b>c):\n",
    "    print('second number is big',b)\n",
    "else:\n",
    "    print('third number is big',c)"
   ]
  },
  {
   "cell_type": "code",
   "execution_count": 70,
   "metadata": {},
   "outputs": [
    {
     "name": "stdout",
     "output_type": "stream",
     "text": [
      "enter your marks 56\n",
      "C Grade\n"
     ]
    }
   ],
   "source": [
    "# print the student grade\n",
    "# marks 80 above => \"A\"\n",
    "# marks 60 above and 80 below => \"B\"\n",
    "# marks 45 above and 60 below => \"c\"\n",
    "# marks less than 45 => \"F\"\n",
    "\n",
    "m=int(input(\"enter your marks \"))\n",
    "if(m>=80 and m<=100):\n",
    "    print(\"A Grade\")\n",
    "elif(m>=60 and m<80):\n",
    "    print(\"B Grade\")\n",
    "elif(m>=45 and m<60):\n",
    "    print(\"C Grade\")\n",
    "else:\n",
    "    print(\"Faild\")\n"
   ]
  },
  {
   "cell_type": "code",
   "execution_count": 71,
   "metadata": {},
   "outputs": [
    {
     "name": "stdout",
     "output_type": "stream",
     "text": [
      "2 4 6 8 10 "
     ]
    }
   ],
   "source": [
    "# print the even number in range of 1 to 10\n",
    "for i in range(1,11):\n",
    "    if(i%2==0):\n",
    "        print(i,end=\" \")"
   ]
  },
  {
   "cell_type": "code",
   "execution_count": 76,
   "metadata": {},
   "outputs": [
    {
     "name": "stdout",
     "output_type": "stream",
     "text": [
      "4 16 36 64 100 "
     ]
    }
   ],
   "source": [
    "# print the power of even numbers in the range of 1 to 10\n",
    "for i in range(1,11):\n",
    "    if(i%2==0):\n",
    "        print(pow(i,2),end=\" \")"
   ]
  },
  {
   "cell_type": "code",
   "execution_count": null,
   "metadata": {},
   "outputs": [],
   "source": []
  }
 ],
 "metadata": {
  "kernelspec": {
   "display_name": "Python 3",
   "language": "python",
   "name": "python3"
  },
  "language_info": {
   "codemirror_mode": {
    "name": "ipython",
    "version": 3
   },
   "file_extension": ".py",
   "mimetype": "text/x-python",
   "name": "python",
   "nbconvert_exporter": "python",
   "pygments_lexer": "ipython3",
   "version": "3.7.3"
  }
 },
 "nbformat": 4,
 "nbformat_minor": 2
}
