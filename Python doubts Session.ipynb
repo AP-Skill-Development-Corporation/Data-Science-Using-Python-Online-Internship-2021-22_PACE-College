{
 "cells": [
  {
   "cell_type": "markdown",
   "metadata": {},
   "source": [
    "### String slicings:"
   ]
  },
  {
   "cell_type": "code",
   "execution_count": 31,
   "metadata": {},
   "outputs": [
    {
     "data": {
      "text/plain": [
       "'eolwolh'"
      ]
     },
     "execution_count": 31,
     "metadata": {},
     "output_type": "execute_result"
    }
   ],
   "source": [
    "s=\"hello welcome\"\n",
    "#len(s)\n",
    "# print(s[-4])\n",
    "# print(s[3:7])    #start index[include]:ending index[exclude]  \n",
    "# print(s[7:2])    # start index as low: ending index as high\n",
    "# print(s[:8])\n",
    "# print(s[7:])\n",
    "# print(s[:10])\n",
    "# print(s[:10:2])\n",
    "#print(s[1::2])\n",
    "#print(s[-1])\n",
    "#print(s[-1:-5])\n",
    "#print(s[-5:-1])\n",
    "#s[-1:-5]\n",
    "# s[2:7]\n",
    "# s[7:2]\n",
    "# s[-5:-1]\n",
    "# s[-1:-7]\n",
    "# s[3::3]\n",
    "\n",
    "s[::-1]    # reverse of the string; -1,-2,-3,-4,-5,-6,-7,-8,-9,-10,-11\n",
    "s[::-2]   # -1,-3,-5,-7,-9,-11,-13\n",
    "\n",
    "\n",
    "s[0:10:2] # 0,2,4,6,8\n",
    "\n",
    "s[::2]\n",
    "\n",
    "s[::-2]  # -1,-3,-5,-7,-9,-11"
   ]
  },
  {
   "cell_type": "code",
   "execution_count": 32,
   "metadata": {},
   "outputs": [
    {
     "data": {
      "text/plain": [
       "30"
      ]
     },
     "execution_count": 32,
     "metadata": {},
     "output_type": "execute_result"
    }
   ],
   "source": [
    "a=10\n",
    "b=20\n",
    "c=a+b\n",
    "c"
   ]
  },
  {
   "cell_type": "code",
   "execution_count": 40,
   "metadata": {},
   "outputs": [],
   "source": [
    "#r,w,a\n",
    "\n",
    "#f=open(\"filename\",\"mode\")\n",
    "f=open(\"mysession.txt\",\"w\")\n",
    "f.write(\"hello welcome to all\")\n",
    "f.close()"
   ]
  },
  {
   "cell_type": "code",
   "execution_count": 41,
   "metadata": {},
   "outputs": [
    {
     "data": {
      "text/plain": [
       "'hello welcome to all'"
      ]
     },
     "execution_count": 41,
     "metadata": {},
     "output_type": "execute_result"
    }
   ],
   "source": [
    "f=open(\"mysession.txt\",\"r\")\n",
    "d=f.read()\n",
    "d"
   ]
  },
  {
   "cell_type": "code",
   "execution_count": 42,
   "metadata": {},
   "outputs": [],
   "source": [
    "f=open(\"mysession.txt\",\"w\")\n",
    "f.write(\"hello welcome to all good afternoon\")\n",
    "f.close()"
   ]
  },
  {
   "cell_type": "code",
   "execution_count": 44,
   "metadata": {},
   "outputs": [],
   "source": [
    "f=open(\"mysession.txt\",\"a\")\n",
    "f.write(\"\\nthis is new line\")\n",
    "f.close()"
   ]
  },
  {
   "cell_type": "code",
   "execution_count": 49,
   "metadata": {},
   "outputs": [
    {
     "name": "stdout",
     "output_type": "stream",
     "text": [
      "hello welcome to all good afternoonthis is new line\n",
      "\n",
      "this is new line\n",
      "\n",
      "this is third line\n",
      "\n",
      "this is fourt line\n",
      "\n",
      "this is fifth line\n",
      "\n",
      "this is sixth line\n",
      "\n",
      "this is seventh line\n"
     ]
    }
   ],
   "source": [
    "f=open(\"mysession.txt\",\"r\")\n",
    "d=f.readlines()\n",
    "for i in d:\n",
    "    print(i)"
   ]
  },
  {
   "cell_type": "code",
   "execution_count": 51,
   "metadata": {},
   "outputs": [
    {
     "name": "stdout",
     "output_type": "stream",
     "text": [
      "hello welcome to all good afternoonthis is new line\n",
      "this is new line\n",
      "this is third line\n",
      "this is fourt line\n",
      "this is fifth line\n",
      "this is sixth line\n",
      "this is seventh line\n"
     ]
    }
   ],
   "source": [
    "with open(\"mysession.txt\",\"r\") as f:\n",
    "    print(f.read())\n",
    "    "
   ]
  },
  {
   "cell_type": "code",
   "execution_count": null,
   "metadata": {},
   "outputs": [],
   "source": []
  }
 ],
 "metadata": {
  "kernelspec": {
   "display_name": "Python 3",
   "language": "python",
   "name": "python3"
  },
  "language_info": {
   "codemirror_mode": {
    "name": "ipython",
    "version": 3
   },
   "file_extension": ".py",
   "mimetype": "text/x-python",
   "name": "python",
   "nbconvert_exporter": "python",
   "pygments_lexer": "ipython3",
   "version": "3.7.3"
  }
 },
 "nbformat": 4,
 "nbformat_minor": 2
}
