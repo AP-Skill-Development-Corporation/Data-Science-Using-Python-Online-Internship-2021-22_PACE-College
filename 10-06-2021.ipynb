{
 "cells": [
  {
   "cell_type": "markdown",
   "metadata": {},
   "source": [
    "### loops:\n",
    "* execute the statements as number of times\n",
    "\n",
    "### loops in python:\n",
    "* while\n",
    "`1.initilize\n",
    " 2.condition\n",
    " 3.increment/decrement`\n",
    " \n",
    " `syntax:\n",
    "         i=0                //initilize\n",
    "         while(condition):  //condition\n",
    "             statements1\n",
    "             statements2\n",
    "             i=i+1         //increment/decrement\n",
    "  `\n",
    "\n",
    "* for"
   ]
  },
  {
   "cell_type": "code",
   "execution_count": 4,
   "metadata": {},
   "outputs": [
    {
     "name": "stdout",
     "output_type": "stream",
     "text": [
      "0 1 2 3 4 5 6 7 8 9 10 "
     ]
    }
   ],
   "source": [
    "# print the 1 to 10 numbers\n",
    "i=0\n",
    "while(i<=10):  #11<=10\n",
    "    print(i,end=\" \")   #0 1 2 3..10\n",
    "    i=i+1      #i=11"
   ]
  },
  {
   "cell_type": "code",
   "execution_count": 6,
   "metadata": {
    "collapsed": true
   },
   "outputs": [
    {
     "name": "stdout",
     "output_type": "stream",
     "text": [
      "enter number 5\n",
      "rahul\n",
      "rahul\n",
      "rahul\n",
      "rahul\n",
      "rahul\n"
     ]
    }
   ],
   "source": [
    "n=int(input(\"enter number \"))\n",
    "\n",
    "i=1\n",
    "while(i<=n):\n",
    "    print(\"rahul\")\n",
    "    i=i+1"
   ]
  },
  {
   "cell_type": "code",
   "execution_count": 16,
   "metadata": {},
   "outputs": [
    {
     "name": "stdout",
     "output_type": "stream",
     "text": [
      "0 1 2 3 4 5 6 7 8 9 10 \n",
      "\n",
      "3 4 5 6 7 8 9 10 \n",
      "\n",
      "0 3 6 9 "
     ]
    }
   ],
   "source": [
    "# for loop\n",
    "for i in range(11): # 0,1,2,3,4\n",
    "    print(i,end=\" \")  \n",
    "    \n",
    "print(\"\\n\")   \n",
    "for i in range(3,11):   #start,end => 3,4,5,6,7,8,9\n",
    "    print(i,end=\" \")\n",
    "    \n",
    "print(\"\\n\")\n",
    "for i in range(0,11,3): # start,end,step\n",
    "    print(i,end=\" \")"
   ]
  },
  {
   "cell_type": "code",
   "execution_count": null,
   "metadata": {},
   "outputs": [],
   "source": []
  },
  {
   "cell_type": "markdown",
   "metadata": {},
   "source": [
    "### String:\n",
    "* Group or collection of characters is a string"
   ]
  },
  {
   "cell_type": "code",
   "execution_count": 1,
   "metadata": {},
   "outputs": [
    {
     "name": "stdout",
     "output_type": "stream",
     "text": [
      "hello students\n"
     ]
    }
   ],
   "source": [
    "s=\"hello students\"\n",
    "print(s)"
   ]
  },
  {
   "cell_type": "code",
   "execution_count": 2,
   "metadata": {},
   "outputs": [
    {
     "data": {
      "text/plain": [
       "str"
      ]
     },
     "execution_count": 2,
     "metadata": {},
     "output_type": "execute_result"
    }
   ],
   "source": [
    "type(s)"
   ]
  },
  {
   "cell_type": "markdown",
   "metadata": {},
   "source": [
    "### access the string data\n",
    "\n",
    "* using loops\n",
    "* using slicing"
   ]
  },
  {
   "cell_type": "code",
   "execution_count": 17,
   "metadata": {},
   "outputs": [
    {
     "name": "stdout",
     "output_type": "stream",
     "text": [
      "h e l l o   w e l c o m e   t o   a l l "
     ]
    }
   ],
   "source": [
    "s=\"hello welcome to all\"\n",
    "for i in s:\n",
    "    print(i,end=\" \")"
   ]
  },
  {
   "cell_type": "code",
   "execution_count": 21,
   "metadata": {},
   "outputs": [
    {
     "name": "stdout",
     "output_type": "stream",
     "text": [
      "hello welcome to all"
     ]
    }
   ],
   "source": [
    "s=\"hello welcome to all\"\n",
    "len(s)\n",
    "for i in range(len(s)):\n",
    "    print(s[i],end=\"\")"
   ]
  },
  {
   "cell_type": "code",
   "execution_count": 22,
   "metadata": {},
   "outputs": [
    {
     "data": {
      "text/plain": [
       "'subh'"
      ]
     },
     "execution_count": 22,
     "metadata": {},
     "output_type": "execute_result"
    }
   ],
   "source": [
    "# slicing:\n",
    "s=\"subhani moghal\"\n",
    "s[0:4]"
   ]
  },
  {
   "cell_type": "code",
   "execution_count": 34,
   "metadata": {},
   "outputs": [
    {
     "name": "stdout",
     "output_type": "stream",
     "text": [
      "lloc ecap\n",
      "lo cp\n",
      "\n",
      "ol\n",
      "pace\n",
      "lloc\n"
     ]
    }
   ],
   "source": [
    "s='pace coll'\n",
    "s[0:4]\n",
    "s[3:]\n",
    "s[:4]\n",
    "s[1:6:2]\n",
    "print(s[::-1])\n",
    "print(s[::-2])\n",
    "print(s[-1:-3])\n",
    "print(s[-3:-1])\n",
    "print(s[:4:])\n",
    "print(s[:4:-1])"
   ]
  },
  {
   "cell_type": "code",
   "execution_count": 35,
   "metadata": {},
   "outputs": [
    {
     "data": {
      "text/plain": [
       "['__add__',\n",
       " '__class__',\n",
       " '__contains__',\n",
       " '__delattr__',\n",
       " '__dir__',\n",
       " '__doc__',\n",
       " '__eq__',\n",
       " '__format__',\n",
       " '__ge__',\n",
       " '__getattribute__',\n",
       " '__getitem__',\n",
       " '__getnewargs__',\n",
       " '__gt__',\n",
       " '__hash__',\n",
       " '__init__',\n",
       " '__init_subclass__',\n",
       " '__iter__',\n",
       " '__le__',\n",
       " '__len__',\n",
       " '__lt__',\n",
       " '__mod__',\n",
       " '__mul__',\n",
       " '__ne__',\n",
       " '__new__',\n",
       " '__reduce__',\n",
       " '__reduce_ex__',\n",
       " '__repr__',\n",
       " '__rmod__',\n",
       " '__rmul__',\n",
       " '__setattr__',\n",
       " '__sizeof__',\n",
       " '__str__',\n",
       " '__subclasshook__',\n",
       " 'capitalize',\n",
       " 'casefold',\n",
       " 'center',\n",
       " 'count',\n",
       " 'encode',\n",
       " 'endswith',\n",
       " 'expandtabs',\n",
       " 'find',\n",
       " 'format',\n",
       " 'format_map',\n",
       " 'index',\n",
       " 'isalnum',\n",
       " 'isalpha',\n",
       " 'isascii',\n",
       " 'isdecimal',\n",
       " 'isdigit',\n",
       " 'isidentifier',\n",
       " 'islower',\n",
       " 'isnumeric',\n",
       " 'isprintable',\n",
       " 'isspace',\n",
       " 'istitle',\n",
       " 'isupper',\n",
       " 'join',\n",
       " 'ljust',\n",
       " 'lower',\n",
       " 'lstrip',\n",
       " 'maketrans',\n",
       " 'partition',\n",
       " 'replace',\n",
       " 'rfind',\n",
       " 'rindex',\n",
       " 'rjust',\n",
       " 'rpartition',\n",
       " 'rsplit',\n",
       " 'rstrip',\n",
       " 'split',\n",
       " 'splitlines',\n",
       " 'startswith',\n",
       " 'strip',\n",
       " 'swapcase',\n",
       " 'title',\n",
       " 'translate',\n",
       " 'upper',\n",
       " 'zfill']"
      ]
     },
     "execution_count": 35,
     "metadata": {},
     "output_type": "execute_result"
    }
   ],
   "source": [
    "# find the string methods\n",
    "s=\"\"\n",
    "dir(s)"
   ]
  },
  {
   "cell_type": "code",
   "execution_count": 41,
   "metadata": {},
   "outputs": [
    {
     "data": {
      "text/plain": [
       "'hello welcome to data science'"
      ]
     },
     "execution_count": 41,
     "metadata": {},
     "output_type": "execute_result"
    }
   ],
   "source": [
    "s=\"Hello Welcome to data science\"\n",
    "#s.capitalize()\n",
    "s.casefold()"
   ]
  },
  {
   "cell_type": "code",
   "execution_count": 46,
   "metadata": {},
   "outputs": [
    {
     "data": {
      "text/plain": [
       "'this is string methods\\nthis is addition\\nthis is using variable'"
      ]
     },
     "execution_count": 46,
     "metadata": {},
     "output_type": "execute_result"
    }
   ],
   "source": [
    "#docstring\n",
    "\"\"\"this is string methods\n",
    "this is addition\n",
    "this is using variable\"\"\""
   ]
  },
  {
   "cell_type": "code",
   "execution_count": null,
   "metadata": {},
   "outputs": [],
   "source": []
  }
 ],
 "metadata": {
  "kernelspec": {
   "display_name": "Python 3",
   "language": "python",
   "name": "python3"
  },
  "language_info": {
   "codemirror_mode": {
    "name": "ipython",
    "version": 3
   },
   "file_extension": ".py",
   "mimetype": "text/x-python",
   "name": "python",
   "nbconvert_exporter": "python",
   "pygments_lexer": "ipython3",
   "version": "3.7.3"
  }
 },
 "nbformat": 4,
 "nbformat_minor": 2
}
