{
 "cells": [
  {
   "cell_type": "code",
   "execution_count": 1,
   "metadata": {},
   "outputs": [
    {
     "name": "stdout",
     "output_type": "stream",
     "text": [
      "<class '__main__.Myclass'>\n"
     ]
    }
   ],
   "source": [
    "#Class is collaction object  class keyword\n",
    "#object is collaction refernce verible\n",
    "\n",
    "class Myclass:\n",
    "    x=10\n",
    "print(Myclass)\n"
   ]
  },
  {
   "cell_type": "code",
   "execution_count": 2,
   "metadata": {},
   "outputs": [
    {
     "name": "stdout",
     "output_type": "stream",
     "text": [
      "10\n"
     ]
    }
   ],
   "source": [
    "#create object\n",
    "\n",
    "class Myclass:\n",
    "    x=10\n",
    "p1=Myclass()\n",
    "print(p1.x)\n"
   ]
  },
  {
   "cell_type": "code",
   "execution_count": 4,
   "metadata": {},
   "outputs": [
    {
     "name": "stdout",
     "output_type": "stream",
     "text": [
      "100\n",
      "gopi\n",
      "101\n",
      "nani\n"
     ]
    }
   ],
   "source": [
    "#class \n",
    "#object\n",
    "#reference var\n",
    "\n",
    "class Student:\n",
    "    def __init__(self,rollno,name):\n",
    "        self.rollno=rollno\n",
    "        self.name=name\n",
    "    def Info(self):\n",
    "        print(self.rollno)\n",
    "        print(self.name)\n",
    "s=Student(100,\"gopi\")\n",
    "print(s.rollno)\n",
    "print(s.name)\n",
    "s1=Student(101,\"nani\")\n",
    "print(s1.rollno)\n",
    "print(s1.name)\n",
    "\n",
    "    \n"
   ]
  },
  {
   "cell_type": "code",
   "execution_count": 6,
   "metadata": {},
   "outputs": [
    {
     "name": "stdout",
     "output_type": "stream",
     "text": [
      "mothed willbe exu\n",
      "gopi\n",
      "100\n"
     ]
    }
   ],
   "source": [
    "class Student():\n",
    "    def __init__(s,name,rollno):\n",
    "        \n",
    "        s.name=name\n",
    "        s.rollno=rollno\n",
    "    def Display(s):\n",
    "        print(\"mothed willbe exu\")\n",
    "        print(s.name)\n",
    "        print(s.rollno)\n",
    "g=Student(\"gopi\",100)\n",
    "g.Display()"
   ]
  },
  {
   "cell_type": "code",
   "execution_count": 7,
   "metadata": {},
   "outputs": [
    {
     "name": "stdout",
     "output_type": "stream",
     "text": [
      "constrctor\n"
     ]
    }
   ],
   "source": [
    "class Init:\n",
    "    def __init__(s):\n",
    "        print(\"constrctor\")\n",
    "t=Init()"
   ]
  },
  {
   "cell_type": "code",
   "execution_count": 8,
   "metadata": {},
   "outputs": [
    {
     "name": "stdout",
     "output_type": "stream",
     "text": [
      "con\n",
      "con\n"
     ]
    }
   ],
   "source": [
    "class Init:\n",
    "    def __init__(s):\n",
    "        print(\"con\")\n",
    "    def __init__(s,x):\n",
    "        print(\"con\")\n",
    "t=Init(30)\n",
    "t=Init(10)"
   ]
  },
  {
   "cell_type": "code",
   "execution_count": 11,
   "metadata": {},
   "outputs": [
    {
     "name": "stdout",
     "output_type": "stream",
     "text": [
      "con exu\n",
      "{'name': 'gopi', 'rollno': 100, 'marks': 60, 'age': 24}\n",
      "con exu\n",
      "{'name': 'Pavan', 'rollno': 102, 'wife': 'renu'}\n"
     ]
    }
   ],
   "source": [
    "class Student():\n",
    "    def __init__(s,name,rollno):\n",
    "        print(\"con exu\")\n",
    "        s.name=name\n",
    "        s.rollno=rollno\n",
    "    def Info(s):\n",
    "        s.marks=60\n",
    "g=Student(\"gopi\",100)\n",
    "g.Info()\n",
    "g.age=24\n",
    "print(g.__dict__)\n",
    "g2=Student(\"Pavan\",102)\n",
    "g2.wife=\"renu\"\n",
    "print(g2.__dict__)"
   ]
  },
  {
   "cell_type": "code",
   "execution_count": 14,
   "metadata": {},
   "outputs": [
    {
     "name": "stdout",
     "output_type": "stream",
     "text": [
      "{'a': 10, 'b': 20, 'c': 30, 'd': 50}\n",
      "{'a': 10, 'b': 20, 'c': 30, 's': 200, 'y': 300}\n"
     ]
    }
   ],
   "source": [
    "class Test:\n",
    "    def __init__(s):\n",
    "        s.a=10\n",
    "        s.b=20\n",
    "        s.c=30\n",
    "    def m1(s):\n",
    "        s.d=50\n",
    "    def m2(s):\n",
    "        e=60\n",
    "t1=Test()\n",
    "t1.m1()\n",
    "t2=Test()\n",
    "t2.m2()\n",
    "t2.s=200\n",
    "t2.y=300\n",
    "\n",
    "print(t1.__dict__)\n",
    "print(t2.__dict__)"
   ]
  },
  {
   "cell_type": "code",
   "execution_count": 17,
   "metadata": {},
   "outputs": [
    {
     "name": "stdout",
     "output_type": "stream",
     "text": [
      "Gopi 100 Apssdc\n",
      "Lokesh 101 Apssdc\n"
     ]
    }
   ],
   "source": [
    "class Student:\n",
    "    cname=\"Apssdc\"\n",
    "    def __init__(self,name,rollno):\n",
    "        self.name=name\n",
    "        self.rollno=rollno\n",
    "        \n",
    "s1=Student(\"Gopi\",100)\n",
    "s2=Student(\"Lokesh\",101)\n",
    "print(s1.name,s1.rollno,Student.cname)\n",
    "print(s2.name,s2.rollno,Student.cname)"
   ]
  },
  {
   "cell_type": "code",
   "execution_count": 18,
   "metadata": {},
   "outputs": [
    {
     "name": "stdout",
     "output_type": "stream",
     "text": [
      "{'__module__': '__main__', '__init__': <function Test.__init__ at 0x000001E523D87310>, 'm1': <function Test.m1 at 0x000001E523E24E50>, 'm2': <classmethod object at 0x000001E523E347C0>, 'm3': <staticmethod object at 0x000001E523E34700>, '__dict__': <attribute '__dict__' of 'Test' objects>, '__weakref__': <attribute '__weakref__' of 'Test' objects>, '__doc__': None, 'y': 20, 'c': 30, 'd': 40, 'e': 50, 'g': 70}\n"
     ]
    }
   ],
   "source": [
    "#Types \n",
    "#intenc\n",
    "#class\n",
    "#stic\n",
    "\n",
    "class Test:\n",
    "    def __init__(self):\n",
    "        Test.y=20\n",
    "    def m1(self):\n",
    "        Test.c=30\n",
    "    @classmethod\n",
    "    def m2(cls):\n",
    "        cls.d=40\n",
    "        Test.e=50\n",
    "    @staticmethod\n",
    "    def m3(cls):\n",
    "        Test.f=60\n",
    "t1=Test()\n",
    "t1.m1()\n",
    "t1.m2()\n",
    "Test.g=70\n",
    "print(Test.__dict__)\n",
    "        \n",
    "    \n",
    "\n"
   ]
  },
  {
   "cell_type": "code",
   "execution_count": 19,
   "metadata": {},
   "outputs": [
    {
     "name": "stdout",
     "output_type": "stream",
     "text": [
      "60\n",
      "60\n"
     ]
    }
   ],
   "source": [
    "class Test:\n",
    "    a=10\n",
    "    def __init__(self):\n",
    "        Test.a=20\n",
    "    @classmethod\n",
    "    def m1(cls):\n",
    "        cls.a=30\n",
    "        Test.a=40\n",
    "    @staticmethod\n",
    "    def m2():\n",
    "        Test.a=50\n",
    "t=Test()\n",
    "t.m1()\n",
    "t.m2()\n",
    "Test.a=60\n",
    "print(Test.a)\n",
    "print(t.a)\n"
   ]
  },
  {
   "cell_type": "code",
   "execution_count": 20,
   "metadata": {},
   "outputs": [
    {
     "name": "stdout",
     "output_type": "stream",
     "text": [
      "888\n",
      "888\n",
      "888\n"
     ]
    }
   ],
   "source": [
    "class Test:\n",
    "    def m1(self):\n",
    "        global x\n",
    "        x=888\n",
    "        print(x)\n",
    "    def m2(self):\n",
    "        print(x)\n",
    "t=Test()\n",
    "t.m1()\n",
    "t.m2()\n",
    "print(x)"
   ]
  },
  {
   "cell_type": "code",
   "execution_count": 21,
   "metadata": {},
   "outputs": [
    {
     "name": "stdout",
     "output_type": "stream",
     "text": [
      "200\n",
      "999\n",
      "100\n"
     ]
    }
   ],
   "source": [
    "class A:\n",
    "    def m1(self):\n",
    "        a=200\n",
    "        print(a)\n",
    "    def m2(self):\n",
    "        b=100\n",
    "        a=999\n",
    "        print(a)\n",
    "        print(b)\n",
    "t=A()\n",
    "t.m1()\n",
    "t.m2()"
   ]
  },
  {
   "cell_type": "code",
   "execution_count": 23,
   "metadata": {},
   "outputs": [
    {
     "name": "stdout",
     "output_type": "stream",
     "text": [
      "888 20\n",
      "888 999\n"
     ]
    }
   ],
   "source": [
    "class Test:\n",
    "    x=10\n",
    "    def __init__(self):\n",
    "        self.y=20\n",
    "t=Test()\n",
    "t1=Test()\n",
    "Test.x=888\n",
    "t1.y=999\n",
    "print(t.x,t.y)\n",
    "print(t1.x,t1.y)"
   ]
  },
  {
   "cell_type": "code",
   "execution_count": null,
   "metadata": {},
   "outputs": [],
   "source": []
  }
 ],
 "metadata": {
  "kernelspec": {
   "display_name": "Python 3",
   "language": "python",
   "name": "python3"
  },
  "language_info": {
   "codemirror_mode": {
    "name": "ipython",
    "version": 3
   },
   "file_extension": ".py",
   "mimetype": "text/x-python",
   "name": "python",
   "nbconvert_exporter": "python",
   "pygments_lexer": "ipython3",
   "version": "3.8.3"
  }
 },
 "nbformat": 4,
 "nbformat_minor": 4
}
