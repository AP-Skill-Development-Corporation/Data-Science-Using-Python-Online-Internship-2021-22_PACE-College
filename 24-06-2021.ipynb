{
 "cells": [
  {
   "cell_type": "code",
   "execution_count": 14,
   "metadata": {},
   "outputs": [
    {
     "name": "stdout",
     "output_type": "stream",
     "text": [
      "112\n",
      "Nani\n",
      "1021\n",
      "Hyd\n",
      "102\n",
      "hanny\n",
      "1010\n",
      "chenni\n"
     ]
    }
   ],
   "source": [
    "class Student:\n",
    "    def __init__(self,sno,sname,srollno,saddrs):\n",
    "        self.sno=sno\n",
    "        self.sname=sname\n",
    "        self.srollno=srollno\n",
    "        self.saddrs=saddrs\n",
    "    def Info(self):\n",
    "        print(self.sno)\n",
    "        print(self.sname)\n",
    "        print(self.srollno)\n",
    "        print(self.saddrs)\n",
    "s=Student(112,\"Nani\",1021,\"Hyd\")\n",
    "s1=Student(102,\"hanny\",1010,\"chenni\")\n",
    "s.Info()\n",
    "s1.Info()\n",
    "    \n"
   ]
  },
  {
   "cell_type": "code",
   "execution_count": 3,
   "metadata": {},
   "outputs": [],
   "source": [
    "# self is a reference varible which is always pointting to current object\n",
    "#within the python class to refer current object we should use self varible\n",
    "#the frist aru=gument to the con and instance method should be slef\n",
    "\n",
    "#By useing self we cane decler instance varible\n",
    "#we access instance veri\n"
   ]
  },
  {
   "cell_type": "code",
   "execution_count": 4,
   "metadata": {},
   "outputs": [
    {
     "name": "stdout",
     "output_type": "stream",
     "text": [
      "this class devleoped gopi\n"
     ]
    }
   ],
   "source": [
    "class Student:\n",
    "    '''this class devleoped gopi'''\n",
    "print(Student.__doc__)"
   ]
  },
  {
   "cell_type": "code",
   "execution_count": 5,
   "metadata": {},
   "outputs": [
    {
     "name": "stdout",
     "output_type": "stream",
     "text": [
      "Help on class Student in module __main__:\n",
      "\n",
      "class Student(builtins.object)\n",
      " |  this class devleoped gopi\n",
      " |  \n",
      " |  Data descriptors defined here:\n",
      " |  \n",
      " |  __dict__\n",
      " |      dictionary for instance variables (if defined)\n",
      " |  \n",
      " |  __weakref__\n",
      " |      list of weak references to the object (if defined)\n",
      "\n"
     ]
    }
   ],
   "source": [
    "help(Student)"
   ]
  },
  {
   "cell_type": "code",
   "execution_count": 7,
   "metadata": {},
   "outputs": [
    {
     "name": "stdout",
     "output_type": "stream",
     "text": [
      "1890723121040\n",
      "1890723121040\n",
      "1890723119888\n",
      "1890723119888\n"
     ]
    }
   ],
   "source": [
    "class Student:\n",
    "    def __init__(self):\n",
    "        print(id(self))\n",
    "s=Student()\n",
    "print(id(s))\n",
    "s1=Student()\n",
    "print(id(s1))"
   ]
  },
  {
   "cell_type": "code",
   "execution_count": 8,
   "metadata": {},
   "outputs": [],
   "source": [
    "#Constructor:The name Should be always __init__()\n",
    "#Whenever we are creating a object conterctor will be executed automatically and \n",
    "#we are not required to call explicity\n",
    "\n",
    "#the main objectve :to declear and initialize variables \n",
    "#for every object con will be executed only ones"
   ]
  },
  {
   "cell_type": "code",
   "execution_count": 9,
   "metadata": {},
   "outputs": [
    {
     "name": "stdout",
     "output_type": "stream",
     "text": [
      "con\n"
     ]
    }
   ],
   "source": [
    "class Init:\n",
    "    def __init__(self):\n",
    "        print(\"con\")\n",
    "t=Init()"
   ]
  },
  {
   "cell_type": "code",
   "execution_count": null,
   "metadata": {},
   "outputs": [
    {
     "name": "stdout",
     "output_type": "stream",
     "text": [
      "welcome to  Sbi\n"
     ]
    }
   ],
   "source": [
    "import sys\n",
    "class Custromer:\n",
    "    '''custromer class with bank related operations'''\n",
    "    bankname=\"Sbi\"\n",
    "    def __init__(self,name,balnce=0):\n",
    "        self.name=name\n",
    "        self.balnce=balnce\n",
    "    def deposit(self,amt):\n",
    "        self.balnce=self.balnce+amt\n",
    "    def withdraw(self,amt):\n",
    "        if amt>self.balnce:\n",
    "            print(\"insufficient funds\")\n",
    "            sys.exit()\n",
    "        self.balnce=self.balnce-amt\n",
    "        print('after withdraw the bls',self.balnce)\n",
    "print('welcome to ',Custromer.bankname)\n",
    "name=input('enter your name:')\n",
    "c=Custromer(name)\n",
    "while True:\n",
    "    print('d-Deposite\\nw-withdraw\\ne-exit')\n",
    "    option=input(\"choose your options\")\n",
    "    if option=='d' or option=='D':\n",
    "        amt=float(input('enter the amount deposit'))\n",
    "        c.deposit(amt)\n",
    "    elif option=='w' or option=='W':\n",
    "        amt=float(input('enter the amt of withdraw'))\n",
    "        c.withdraw(amt)\n",
    "    elif option=='e' or option=='E':\n",
    "        print('thanks')\n",
    "        sys.exit()\n",
    "    else:\n",
    "        print('choose valied opetion')"
   ]
  },
  {
   "cell_type": "code",
   "execution_count": null,
   "metadata": {},
   "outputs": [],
   "source": [
    "#instance methodes \n",
    "#class methodes\n",
    "#static methodes\n",
    "\n",
    "#instance var\n",
    "#class ver\n",
    "#static vari"
   ]
  },
  {
   "cell_type": "code",
   "execution_count": null,
   "metadata": {},
   "outputs": [
    {
     "name": "stdout",
     "output_type": "stream",
     "text": [
      "enter the number of students20\n",
      "enter a namegopi\n",
      "enter the marks50\n",
      "hai gopi\n",
      "Your marks are: 50\n",
      "B\n"
     ]
    }
   ],
   "source": [
    "class Stu:\n",
    "    def __init__(self,name,marks):\n",
    "        self.name=name\n",
    "        self.marks=marks\n",
    "    def display(self):\n",
    "        print('hai',self.name)\n",
    "        print('Your marks are:',self.marks)\n",
    "    def grade(self):\n",
    "        if self.marks>=60:\n",
    "            print('A')\n",
    "        elif self.marks>=50:\n",
    "            print('B')\n",
    "        elif self.marks>=35:\n",
    "            print('pass')\n",
    "        else:\n",
    "            print('feild')\n",
    "n=int(input(\"enter the number of students\"))\n",
    "for i in range(n):\n",
    "    name=input('enter a name')\n",
    "    marks=int(input(\"enter the marks\"))\n",
    "    c=Stu(name,marks)\n",
    "    c.display()\n",
    "    c.grade()\n",
    "            "
   ]
  },
  {
   "cell_type": "code",
   "execution_count": 5,
   "metadata": {},
   "outputs": [
    {
     "name": "stdout",
     "output_type": "stream",
     "text": [
      "the number objects creted: 2\n"
     ]
    }
   ],
   "source": [
    "class Test:\n",
    "    c=0\n",
    "    def __init__(self):\n",
    "        Test.c=Test.c+1\n",
    "    @classmethod\n",
    "    def gets(cls):\n",
    "        print(\"the number objects creted:\",cls.c)\n",
    "t1=Test()\n",
    "t2=Test()\n",
    "Test.gets()"
   ]
  },
  {
   "cell_type": "code",
   "execution_count": null,
   "metadata": {},
   "outputs": [],
   "source": []
  }
 ],
 "metadata": {
  "kernelspec": {
   "display_name": "Python 3",
   "language": "python",
   "name": "python3"
  },
  "language_info": {
   "codemirror_mode": {
    "name": "ipython",
    "version": 3
   },
   "file_extension": ".py",
   "mimetype": "text/x-python",
   "name": "python",
   "nbconvert_exporter": "python",
   "pygments_lexer": "ipython3",
   "version": "3.8.3"
  }
 },
 "nbformat": 4,
 "nbformat_minor": 4
}
